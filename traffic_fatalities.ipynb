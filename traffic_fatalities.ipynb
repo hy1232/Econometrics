{
 "cells": [
  {
   "cell_type": "markdown",
   "metadata": {},
   "source": [
    "# Regression with Panel Data"
   ]
  },
  {
   "cell_type": "markdown",
   "metadata": {},
   "source": [
    "## 10.1 Panel Data"
   ]
  },
  {
   "cell_type": "code",
   "execution_count": 1,
   "metadata": {},
   "outputs": [],
   "source": [
    "import pandas as pd \n",
    "import numpy as np\n",
    "import matplotlib.pyplot as plt \n",
    "from sklearn.linear_model import LinearRegression"
   ]
  },
  {
   "cell_type": "code",
   "execution_count": 2,
   "metadata": {},
   "outputs": [],
   "source": [
    "df = pd.read_csv(\"Fatalities.csv\")"
   ]
  },
  {
   "cell_type": "code",
   "execution_count": 3,
   "metadata": {},
   "outputs": [
    {
     "data": {
      "text/html": [
       "<div>\n",
       "<style scoped>\n",
       "    .dataframe tbody tr th:only-of-type {\n",
       "        vertical-align: middle;\n",
       "    }\n",
       "\n",
       "    .dataframe tbody tr th {\n",
       "        vertical-align: top;\n",
       "    }\n",
       "\n",
       "    .dataframe thead th {\n",
       "        text-align: right;\n",
       "    }\n",
       "</style>\n",
       "<table border=\"1\" class=\"dataframe\">\n",
       "  <thead>\n",
       "    <tr style=\"text-align: right;\">\n",
       "      <th></th>\n",
       "      <th>state</th>\n",
       "      <th>year</th>\n",
       "      <th>spirits</th>\n",
       "      <th>unemp</th>\n",
       "      <th>income</th>\n",
       "      <th>emppop</th>\n",
       "      <th>beertax</th>\n",
       "      <th>baptist</th>\n",
       "      <th>mormon</th>\n",
       "      <th>drinkage</th>\n",
       "      <th>...</th>\n",
       "      <th>nfatal2124</th>\n",
       "      <th>afatal</th>\n",
       "      <th>pop</th>\n",
       "      <th>pop1517</th>\n",
       "      <th>pop1820</th>\n",
       "      <th>pop2124</th>\n",
       "      <th>milestot</th>\n",
       "      <th>unempus</th>\n",
       "      <th>emppopus</th>\n",
       "      <th>gsp</th>\n",
       "    </tr>\n",
       "  </thead>\n",
       "  <tbody>\n",
       "    <tr>\n",
       "      <th>0</th>\n",
       "      <td>al</td>\n",
       "      <td>1982</td>\n",
       "      <td>1.37</td>\n",
       "      <td>14.4</td>\n",
       "      <td>10544.152344</td>\n",
       "      <td>50.692039</td>\n",
       "      <td>1.539379</td>\n",
       "      <td>30.355700</td>\n",
       "      <td>0.32829</td>\n",
       "      <td>19.00</td>\n",
       "      <td>...</td>\n",
       "      <td>32</td>\n",
       "      <td>309.437988</td>\n",
       "      <td>3.942002e+06</td>\n",
       "      <td>208999.593750</td>\n",
       "      <td>221553.437500</td>\n",
       "      <td>290000.062500</td>\n",
       "      <td>28516.0</td>\n",
       "      <td>9.7</td>\n",
       "      <td>57.799999</td>\n",
       "      <td>-0.022125</td>\n",
       "    </tr>\n",
       "    <tr>\n",
       "      <th>1</th>\n",
       "      <td>al</td>\n",
       "      <td>1983</td>\n",
       "      <td>1.36</td>\n",
       "      <td>13.7</td>\n",
       "      <td>10732.797852</td>\n",
       "      <td>52.147030</td>\n",
       "      <td>1.788991</td>\n",
       "      <td>30.333599</td>\n",
       "      <td>0.34341</td>\n",
       "      <td>19.00</td>\n",
       "      <td>...</td>\n",
       "      <td>35</td>\n",
       "      <td>341.834015</td>\n",
       "      <td>3.960008e+06</td>\n",
       "      <td>202000.078125</td>\n",
       "      <td>219125.468750</td>\n",
       "      <td>290000.156250</td>\n",
       "      <td>31032.0</td>\n",
       "      <td>9.6</td>\n",
       "      <td>57.900002</td>\n",
       "      <td>0.046558</td>\n",
       "    </tr>\n",
       "    <tr>\n",
       "      <th>2</th>\n",
       "      <td>al</td>\n",
       "      <td>1984</td>\n",
       "      <td>1.32</td>\n",
       "      <td>11.1</td>\n",
       "      <td>11108.791016</td>\n",
       "      <td>54.168087</td>\n",
       "      <td>1.714286</td>\n",
       "      <td>30.311501</td>\n",
       "      <td>0.35924</td>\n",
       "      <td>19.00</td>\n",
       "      <td>...</td>\n",
       "      <td>34</td>\n",
       "      <td>304.872009</td>\n",
       "      <td>3.988992e+06</td>\n",
       "      <td>196999.968750</td>\n",
       "      <td>216724.093750</td>\n",
       "      <td>288000.156250</td>\n",
       "      <td>32961.0</td>\n",
       "      <td>7.5</td>\n",
       "      <td>59.500004</td>\n",
       "      <td>0.062798</td>\n",
       "    </tr>\n",
       "    <tr>\n",
       "      <th>3</th>\n",
       "      <td>al</td>\n",
       "      <td>1985</td>\n",
       "      <td>1.28</td>\n",
       "      <td>8.9</td>\n",
       "      <td>11332.626953</td>\n",
       "      <td>55.271137</td>\n",
       "      <td>1.652542</td>\n",
       "      <td>30.289499</td>\n",
       "      <td>0.37579</td>\n",
       "      <td>19.67</td>\n",
       "      <td>...</td>\n",
       "      <td>45</td>\n",
       "      <td>276.742004</td>\n",
       "      <td>4.021008e+06</td>\n",
       "      <td>194999.734375</td>\n",
       "      <td>214349.031250</td>\n",
       "      <td>284000.312500</td>\n",
       "      <td>35091.0</td>\n",
       "      <td>7.2</td>\n",
       "      <td>60.100002</td>\n",
       "      <td>0.027490</td>\n",
       "    </tr>\n",
       "    <tr>\n",
       "      <th>4</th>\n",
       "      <td>al</td>\n",
       "      <td>1986</td>\n",
       "      <td>1.23</td>\n",
       "      <td>9.8</td>\n",
       "      <td>11661.506836</td>\n",
       "      <td>56.514496</td>\n",
       "      <td>1.609907</td>\n",
       "      <td>30.267401</td>\n",
       "      <td>0.39311</td>\n",
       "      <td>21.00</td>\n",
       "      <td>...</td>\n",
       "      <td>29</td>\n",
       "      <td>360.716003</td>\n",
       "      <td>4.049994e+06</td>\n",
       "      <td>203999.890625</td>\n",
       "      <td>212000.000000</td>\n",
       "      <td>263000.281250</td>\n",
       "      <td>36259.0</td>\n",
       "      <td>7.0</td>\n",
       "      <td>60.700001</td>\n",
       "      <td>0.032143</td>\n",
       "    </tr>\n",
       "    <tr>\n",
       "      <th>...</th>\n",
       "      <td>...</td>\n",
       "      <td>...</td>\n",
       "      <td>...</td>\n",
       "      <td>...</td>\n",
       "      <td>...</td>\n",
       "      <td>...</td>\n",
       "      <td>...</td>\n",
       "      <td>...</td>\n",
       "      <td>...</td>\n",
       "      <td>...</td>\n",
       "      <td>...</td>\n",
       "      <td>...</td>\n",
       "      <td>...</td>\n",
       "      <td>...</td>\n",
       "      <td>...</td>\n",
       "      <td>...</td>\n",
       "      <td>...</td>\n",
       "      <td>...</td>\n",
       "      <td>...</td>\n",
       "      <td>...</td>\n",
       "      <td>...</td>\n",
       "    </tr>\n",
       "    <tr>\n",
       "      <th>331</th>\n",
       "      <td>wy</td>\n",
       "      <td>1984</td>\n",
       "      <td>1.91</td>\n",
       "      <td>6.3</td>\n",
       "      <td>13456.043945</td>\n",
       "      <td>66.022095</td>\n",
       "      <td>0.049451</td>\n",
       "      <td>2.630720</td>\n",
       "      <td>8.55593</td>\n",
       "      <td>19.00</td>\n",
       "      <td>...</td>\n",
       "      <td>3</td>\n",
       "      <td>62.278999</td>\n",
       "      <td>5.129998e+05</td>\n",
       "      <td>21999.941406</td>\n",
       "      <td>24821.398438</td>\n",
       "      <td>36999.839844</td>\n",
       "      <td>5127.0</td>\n",
       "      <td>7.5</td>\n",
       "      <td>59.500004</td>\n",
       "      <td>-0.016678</td>\n",
       "    </tr>\n",
       "    <tr>\n",
       "      <th>332</th>\n",
       "      <td>wy</td>\n",
       "      <td>1985</td>\n",
       "      <td>1.88</td>\n",
       "      <td>7.1</td>\n",
       "      <td>13595.338867</td>\n",
       "      <td>65.083801</td>\n",
       "      <td>0.047669</td>\n",
       "      <td>2.720570</td>\n",
       "      <td>8.54494</td>\n",
       "      <td>19.00</td>\n",
       "      <td>...</td>\n",
       "      <td>7</td>\n",
       "      <td>52.345001</td>\n",
       "      <td>5.089996e+05</td>\n",
       "      <td>22000.021484</td>\n",
       "      <td>24407.244141</td>\n",
       "      <td>35000.218750</td>\n",
       "      <td>5401.0</td>\n",
       "      <td>7.2</td>\n",
       "      <td>60.100002</td>\n",
       "      <td>-0.012126</td>\n",
       "    </tr>\n",
       "    <tr>\n",
       "      <th>333</th>\n",
       "      <td>wy</td>\n",
       "      <td>1986</td>\n",
       "      <td>1.70</td>\n",
       "      <td>9.0</td>\n",
       "      <td>13126.934570</td>\n",
       "      <td>63.966484</td>\n",
       "      <td>0.046440</td>\n",
       "      <td>2.813500</td>\n",
       "      <td>8.53397</td>\n",
       "      <td>19.00</td>\n",
       "      <td>...</td>\n",
       "      <td>11</td>\n",
       "      <td>57.856998</td>\n",
       "      <td>5.069999e+05</td>\n",
       "      <td>23000.005859</td>\n",
       "      <td>23999.998047</td>\n",
       "      <td>34999.789062</td>\n",
       "      <td>5384.0</td>\n",
       "      <td>7.0</td>\n",
       "      <td>60.700001</td>\n",
       "      <td>-0.109976</td>\n",
       "    </tr>\n",
       "    <tr>\n",
       "      <th>334</th>\n",
       "      <td>wy</td>\n",
       "      <td>1987</td>\n",
       "      <td>1.59</td>\n",
       "      <td>8.6</td>\n",
       "      <td>12719.000000</td>\n",
       "      <td>62.857143</td>\n",
       "      <td>0.045000</td>\n",
       "      <td>2.909600</td>\n",
       "      <td>8.52302</td>\n",
       "      <td>19.00</td>\n",
       "      <td>...</td>\n",
       "      <td>4</td>\n",
       "      <td>35.500000</td>\n",
       "      <td>4.900005e+05</td>\n",
       "      <td>22000.021484</td>\n",
       "      <td>22999.916016</td>\n",
       "      <td>32999.671875</td>\n",
       "      <td>5367.0</td>\n",
       "      <td>6.2</td>\n",
       "      <td>61.500000</td>\n",
       "      <td>-0.123641</td>\n",
       "    </tr>\n",
       "    <tr>\n",
       "      <th>335</th>\n",
       "      <td>wy</td>\n",
       "      <td>1988</td>\n",
       "      <td>1.55</td>\n",
       "      <td>6.3</td>\n",
       "      <td>13098.170898</td>\n",
       "      <td>64.637680</td>\n",
       "      <td>0.043311</td>\n",
       "      <td>3.008990</td>\n",
       "      <td>8.51208</td>\n",
       "      <td>19.50</td>\n",
       "      <td>...</td>\n",
       "      <td>5</td>\n",
       "      <td>47.422001</td>\n",
       "      <td>4.789997e+05</td>\n",
       "      <td>21000.021484</td>\n",
       "      <td>20999.962891</td>\n",
       "      <td>30000.156250</td>\n",
       "      <td>5658.0</td>\n",
       "      <td>5.5</td>\n",
       "      <td>62.300003</td>\n",
       "      <td>-0.017023</td>\n",
       "    </tr>\n",
       "  </tbody>\n",
       "</table>\n",
       "<p>336 rows × 34 columns</p>\n",
       "</div>"
      ],
      "text/plain": [
       "    state  year  spirits  unemp        income     emppop   beertax    baptist  \\\n",
       "0      al  1982     1.37   14.4  10544.152344  50.692039  1.539379  30.355700   \n",
       "1      al  1983     1.36   13.7  10732.797852  52.147030  1.788991  30.333599   \n",
       "2      al  1984     1.32   11.1  11108.791016  54.168087  1.714286  30.311501   \n",
       "3      al  1985     1.28    8.9  11332.626953  55.271137  1.652542  30.289499   \n",
       "4      al  1986     1.23    9.8  11661.506836  56.514496  1.609907  30.267401   \n",
       "..    ...   ...      ...    ...           ...        ...       ...        ...   \n",
       "331    wy  1984     1.91    6.3  13456.043945  66.022095  0.049451   2.630720   \n",
       "332    wy  1985     1.88    7.1  13595.338867  65.083801  0.047669   2.720570   \n",
       "333    wy  1986     1.70    9.0  13126.934570  63.966484  0.046440   2.813500   \n",
       "334    wy  1987     1.59    8.6  12719.000000  62.857143  0.045000   2.909600   \n",
       "335    wy  1988     1.55    6.3  13098.170898  64.637680  0.043311   3.008990   \n",
       "\n",
       "      mormon  drinkage  ...  nfatal2124      afatal           pop  \\\n",
       "0    0.32829     19.00  ...          32  309.437988  3.942002e+06   \n",
       "1    0.34341     19.00  ...          35  341.834015  3.960008e+06   \n",
       "2    0.35924     19.00  ...          34  304.872009  3.988992e+06   \n",
       "3    0.37579     19.67  ...          45  276.742004  4.021008e+06   \n",
       "4    0.39311     21.00  ...          29  360.716003  4.049994e+06   \n",
       "..       ...       ...  ...         ...         ...           ...   \n",
       "331  8.55593     19.00  ...           3   62.278999  5.129998e+05   \n",
       "332  8.54494     19.00  ...           7   52.345001  5.089996e+05   \n",
       "333  8.53397     19.00  ...          11   57.856998  5.069999e+05   \n",
       "334  8.52302     19.00  ...           4   35.500000  4.900005e+05   \n",
       "335  8.51208     19.50  ...           5   47.422001  4.789997e+05   \n",
       "\n",
       "           pop1517        pop1820        pop2124  milestot  unempus  \\\n",
       "0    208999.593750  221553.437500  290000.062500   28516.0      9.7   \n",
       "1    202000.078125  219125.468750  290000.156250   31032.0      9.6   \n",
       "2    196999.968750  216724.093750  288000.156250   32961.0      7.5   \n",
       "3    194999.734375  214349.031250  284000.312500   35091.0      7.2   \n",
       "4    203999.890625  212000.000000  263000.281250   36259.0      7.0   \n",
       "..             ...            ...            ...       ...      ...   \n",
       "331   21999.941406   24821.398438   36999.839844    5127.0      7.5   \n",
       "332   22000.021484   24407.244141   35000.218750    5401.0      7.2   \n",
       "333   23000.005859   23999.998047   34999.789062    5384.0      7.0   \n",
       "334   22000.021484   22999.916016   32999.671875    5367.0      6.2   \n",
       "335   21000.021484   20999.962891   30000.156250    5658.0      5.5   \n",
       "\n",
       "      emppopus       gsp  \n",
       "0    57.799999 -0.022125  \n",
       "1    57.900002  0.046558  \n",
       "2    59.500004  0.062798  \n",
       "3    60.100002  0.027490  \n",
       "4    60.700001  0.032143  \n",
       "..         ...       ...  \n",
       "331  59.500004 -0.016678  \n",
       "332  60.100002 -0.012126  \n",
       "333  60.700001 -0.109976  \n",
       "334  61.500000 -0.123641  \n",
       "335  62.300003 -0.017023  \n",
       "\n",
       "[336 rows x 34 columns]"
      ]
     },
     "execution_count": 3,
     "metadata": {},
     "output_type": "execute_result"
    }
   ],
   "source": [
    "df"
   ]
  },
  {
   "cell_type": "code",
   "execution_count": 4,
   "metadata": {},
   "outputs": [],
   "source": [
    "df[\"frate\"] = (df[\"fatal\"]/df[\"pop\"])*10000\n",
    "\n",
    "f1982 = df[df[\"year\"]==1982]\n",
    "f1988 = df[df[\"year\"]==1988]"
   ]
  },
  {
   "cell_type": "code",
   "execution_count": 5,
   "metadata": {},
   "outputs": [
    {
     "data": {
      "image/png": "[encoded data removed]",
      "text/plain": [
       "<Figure size 432x288 with 2 Axes>"
      ]
     },
     "metadata": {
      "needs_background": "light"
     },
     "output_type": "display_data"
    }
   ],
   "source": [
    "fig = plt.figure()\n",
    "\n",
    "ax_1 = fig.add_axes([0,0,1,1])\n",
    "ax_1.scatter('beertax', 'frate', data=f1982, color='black', marker='.')\n",
    "\n",
    "ax_1.set_ylim(0,4.5)\n",
    "ax_1.set_xlim(0,3)\n",
    "ax_1.text(-0.5, 4.73, 'Fatality rate \\n (fatalities per 10,000)', fontsize='large', fontfamily='serif', ma='center')\n",
    "ax_1.set_xlabel('Beer Tax \\n (dollars per case $1988)', loc='right', fontsize='large', fontfamily='serif')\n",
    "ax_1.spines['top'].set_visible(False)\n",
    "ax_1.spines['right'].set_visible(False)\n",
    "ax_1.tick_params(axis='x', direction='in', pad=10, length=8, labelsize=12)\n",
    "ax_1.tick_params(axis='y', direction='in', pad=5, length=10, labelsize=12)\n",
    "\n",
    "x_1982 = np.array(f1982['beertax']).reshape(-1,1)\n",
    "y_1982 = np.array(f1982['frate']).reshape(-1,1)\n",
    "\n",
    "reg_1982 = LinearRegression().fit(x_1982, y_1982)\n",
    "\n",
    "m = reg_1982.intercept_\n",
    "b = reg_1982.coef_\n",
    "\n",
    "max_num = max(f1982['beertax'])+0.08\n",
    "min_num = min(f1982['beertax'])\n",
    "\n",
    "x = np.arange(min_num, max_num,0.01).reshape(-1,1)\n",
    "\n",
    "ax_1.plot(x, m+(b*x), color='black')\n",
    "ax_1.text(1.7,2.55, r'$\\widehat{FatalityRate} = 2.01 + 0.15BeerTax$')\n",
    "ax_1.text(-0.47, -1, \"(a) 1982 data\")\n",
    "\n",
    "##############################################################################\n",
    "\n",
    "ax_2 = fig.add_axes([0,-1.5,1,1])\n",
    "ax_2.scatter('beertax', 'frate', data=f1988, color='black', marker='.')\n",
    "\n",
    "ax_2.set_ylim(0,4.5)\n",
    "ax_2.set_xlim(0,3)\n",
    "ax_2.text(-0.5, 4.73, 'Fatality rate \\n (fatalities per 10,000)', fontsize='large', fontfamily='serif', ma='center')\n",
    "ax_2.set_xlabel('Beer Tax \\n (dollars per case $1988)', loc='right', fontsize='large', fontfamily='serif')\n",
    "ax_2.spines['top'].set_visible(False)\n",
    "ax_2.spines['right'].set_visible(False)\n",
    "ax_2.tick_params(axis='x', direction='in', pad=10, length=8, labelsize=12)\n",
    "ax_2.tick_params(axis='y', direction='in', pad=5, length=10, labelsize=12)\n",
    "\n",
    "x_1988 = np.array(f1988['beertax']).reshape(-1,1)\n",
    "y_1988 = np.array(f1988['frate']).reshape(-1,1)\n",
    "\n",
    "reg_1988 = LinearRegression().fit(x_1988, y_1988)\n",
    "\n",
    "m = reg_1988.intercept_\n",
    "b = reg_1988.coef_\n",
    "\n",
    "max_num = max(f1988['beertax'])+0.5\n",
    "min_num = min(f1988['beertax'])\n",
    "\n",
    "x = np.arange(min_num, max_num,0.01).reshape(-1,1)\n",
    "\n",
    "ax_2.plot(x, m+(b*x), color='black')\n",
    "ax_2.text(1.7,3.2, r'$\\widehat{FatalityRate} = 1.86 + 0.44BeerTax$')\n",
    "ax_2.text(-0.47, -1, \"(b) 1988 data\")\n",
    "\n",
    "ax_1.text(-2, 2.4, \n",
    "          'Panel (a) is a scatterplot of traf-\\nfic fatality rates and the real tax \\non a case of beer (in 1988 \\ndollars) for 48 states in 1982. \\nPanel (b) shows the data for \\n1988. Both plots show a posi- \\ntive relationship between the \\nfatality rate and the real beer \\ntax.', \n",
    "          fontsize='large', fontfamily='serif', linespacing=1.8\n",
    "         )\n",
    "43333\n",
    "ax_1.text(-2,5.55, 'The Traffic Fatality Rate and the Tax on Beer', fontsize='x-large', fontfamily='sans-serif', fontweight='bold')\n",
    "\n",
    "plt.show()"
   ]
  },
  {
   "cell_type": "code",
   "execution_count": 6,
   "metadata": {},
   "outputs": [
    {
     "data": {
      "text/html": [
       "<div>\n",
       "<style scoped>\n",
       "    .dataframe tbody tr th:only-of-type {\n",
       "        vertical-align: middle;\n",
       "    }\n",
       "\n",
       "    .dataframe tbody tr th {\n",
       "        vertical-align: top;\n",
       "    }\n",
       "\n",
       "    .dataframe thead th {\n",
       "        text-align: right;\n",
       "    }\n",
       "</style>\n",
       "<table border=\"1\" class=\"dataframe\">\n",
       "  <thead>\n",
       "    <tr style=\"text-align: right;\">\n",
       "      <th></th>\n",
       "      <th>state</th>\n",
       "      <th>year</th>\n",
       "      <th>spirits</th>\n",
       "      <th>unemp</th>\n",
       "      <th>income</th>\n",
       "      <th>emppop</th>\n",
       "      <th>beertax</th>\n",
       "      <th>baptist</th>\n",
       "      <th>mormon</th>\n",
       "      <th>drinkage</th>\n",
       "      <th>...</th>\n",
       "      <th>afatal</th>\n",
       "      <th>pop</th>\n",
       "      <th>pop1517</th>\n",
       "      <th>pop1820</th>\n",
       "      <th>pop2124</th>\n",
       "      <th>milestot</th>\n",
       "      <th>unempus</th>\n",
       "      <th>emppopus</th>\n",
       "      <th>gsp</th>\n",
       "      <th>frate</th>\n",
       "    </tr>\n",
       "  </thead>\n",
       "  <tbody>\n",
       "    <tr>\n",
       "      <th>0</th>\n",
       "      <td>al</td>\n",
       "      <td>1982</td>\n",
       "      <td>1.37</td>\n",
       "      <td>14.4</td>\n",
       "      <td>10544.152344</td>\n",
       "      <td>50.692039</td>\n",
       "      <td>1.539379</td>\n",
       "      <td>30.355700</td>\n",
       "      <td>0.32829</td>\n",
       "      <td>19.0</td>\n",
       "      <td>...</td>\n",
       "      <td>309.437988</td>\n",
       "      <td>3942002.25</td>\n",
       "      <td>2.089996e+05</td>\n",
       "      <td>2.215534e+05</td>\n",
       "      <td>2.900001e+05</td>\n",
       "      <td>28516.0</td>\n",
       "      <td>9.7</td>\n",
       "      <td>57.799999</td>\n",
       "      <td>-0.022125</td>\n",
       "      <td>2.12836</td>\n",
       "    </tr>\n",
       "    <tr>\n",
       "      <th>7</th>\n",
       "      <td>az</td>\n",
       "      <td>1982</td>\n",
       "      <td>1.97</td>\n",
       "      <td>9.9</td>\n",
       "      <td>12309.069336</td>\n",
       "      <td>56.893295</td>\n",
       "      <td>0.214797</td>\n",
       "      <td>3.958900</td>\n",
       "      <td>4.91910</td>\n",
       "      <td>19.0</td>\n",
       "      <td>...</td>\n",
       "      <td>173.667999</td>\n",
       "      <td>2896996.50</td>\n",
       "      <td>1.410000e+05</td>\n",
       "      <td>1.563787e+05</td>\n",
       "      <td>2.180000e+05</td>\n",
       "      <td>19729.0</td>\n",
       "      <td>9.7</td>\n",
       "      <td>57.799999</td>\n",
       "      <td>-0.043182</td>\n",
       "      <td>2.49914</td>\n",
       "    </tr>\n",
       "    <tr>\n",
       "      <th>14</th>\n",
       "      <td>ar</td>\n",
       "      <td>1982</td>\n",
       "      <td>1.19</td>\n",
       "      <td>9.8</td>\n",
       "      <td>10267.302734</td>\n",
       "      <td>54.475857</td>\n",
       "      <td>0.650358</td>\n",
       "      <td>22.967199</td>\n",
       "      <td>0.32829</td>\n",
       "      <td>21.0</td>\n",
       "      <td>...</td>\n",
       "      <td>271.459015</td>\n",
       "      <td>2306998.50</td>\n",
       "      <td>1.220000e+05</td>\n",
       "      <td>1.212695e+05</td>\n",
       "      <td>1.570000e+05</td>\n",
       "      <td>16630.0</td>\n",
       "      <td>9.7</td>\n",
       "      <td>57.799999</td>\n",
       "      <td>-0.034734</td>\n",
       "      <td>2.38405</td>\n",
       "    </tr>\n",
       "    <tr>\n",
       "      <th>21</th>\n",
       "      <td>ca</td>\n",
       "      <td>1982</td>\n",
       "      <td>2.21</td>\n",
       "      <td>9.9</td>\n",
       "      <td>15797.135742</td>\n",
       "      <td>59.515930</td>\n",
       "      <td>0.107399</td>\n",
       "      <td>1.723100</td>\n",
       "      <td>1.67854</td>\n",
       "      <td>21.0</td>\n",
       "      <td>...</td>\n",
       "      <td>1379.130005</td>\n",
       "      <td>24785976.00</td>\n",
       "      <td>1.157002e+06</td>\n",
       "      <td>1.321004e+06</td>\n",
       "      <td>1.892998e+06</td>\n",
       "      <td>169999.0</td>\n",
       "      <td>9.7</td>\n",
       "      <td>57.799999</td>\n",
       "      <td>-0.011686</td>\n",
       "      <td>1.86194</td>\n",
       "    </tr>\n",
       "    <tr>\n",
       "      <th>28</th>\n",
       "      <td>co</td>\n",
       "      <td>1982</td>\n",
       "      <td>2.25</td>\n",
       "      <td>7.7</td>\n",
       "      <td>15082.338867</td>\n",
       "      <td>64.966736</td>\n",
       "      <td>0.214797</td>\n",
       "      <td>2.300000</td>\n",
       "      <td>1.82301</td>\n",
       "      <td>21.0</td>\n",
       "      <td>...</td>\n",
       "      <td>219.750000</td>\n",
       "      <td>3071998.75</td>\n",
       "      <td>1.430001e+05</td>\n",
       "      <td>1.699568e+05</td>\n",
       "      <td>2.460000e+05</td>\n",
       "      <td>23786.0</td>\n",
       "      <td>9.7</td>\n",
       "      <td>57.799999</td>\n",
       "      <td>0.012043</td>\n",
       "      <td>2.17448</td>\n",
       "    </tr>\n",
       "  </tbody>\n",
       "</table>\n",
       "<p>5 rows × 35 columns</p>\n",
       "</div>"
      ],
      "text/plain": [
       "   state  year  spirits  unemp        income     emppop   beertax    baptist  \\\n",
       "0     al  1982     1.37   14.4  10544.152344  50.692039  1.539379  30.355700   \n",
       "7     az  1982     1.97    9.9  12309.069336  56.893295  0.214797   3.958900   \n",
       "14    ar  1982     1.19    9.8  10267.302734  54.475857  0.650358  22.967199   \n",
       "21    ca  1982     2.21    9.9  15797.135742  59.515930  0.107399   1.723100   \n",
       "28    co  1982     2.25    7.7  15082.338867  64.966736  0.214797   2.300000   \n",
       "\n",
       "     mormon  drinkage  ...       afatal          pop       pop1517  \\\n",
       "0   0.32829      19.0  ...   309.437988   3942002.25  2.089996e+05   \n",
       "7   4.91910      19.0  ...   173.667999   2896996.50  1.410000e+05   \n",
       "14  0.32829      21.0  ...   271.459015   2306998.50  1.220000e+05   \n",
       "21  1.67854      21.0  ...  1379.130005  24785976.00  1.157002e+06   \n",
       "28  1.82301      21.0  ...   219.750000   3071998.75  1.430001e+05   \n",
       "\n",
       "         pop1820       pop2124  milestot  unempus   emppopus       gsp  \\\n",
       "0   2.215534e+05  2.900001e+05   28516.0      9.7  57.799999 -0.022125   \n",
       "7   1.563787e+05  2.180000e+05   19729.0      9.7  57.799999 -0.043182   \n",
       "14  1.212695e+05  1.570000e+05   16630.0      9.7  57.799999 -0.034734   \n",
       "21  1.321004e+06  1.892998e+06  169999.0      9.7  57.799999 -0.011686   \n",
       "28  1.699568e+05  2.460000e+05   23786.0      9.7  57.799999  0.012043   \n",
       "\n",
       "      frate  \n",
       "0   2.12836  \n",
       "7   2.49914  \n",
       "14  2.38405  \n",
       "21  1.86194  \n",
       "28  2.17448  \n",
       "\n",
       "[5 rows x 35 columns]"
      ]
     },
     "execution_count": 6,
     "metadata": {},
     "output_type": "execute_result"
    }
   ],
   "source": [
    "f1982.head()"
   ]
  },
  {
   "cell_type": "code",
   "execution_count": 7,
   "metadata": {},
   "outputs": [
    {
     "data": {
      "text/html": [
       "<div>\n",
       "<style scoped>\n",
       "    .dataframe tbody tr th:only-of-type {\n",
       "        vertical-align: middle;\n",
       "    }\n",
       "\n",
       "    .dataframe tbody tr th {\n",
       "        vertical-align: top;\n",
       "    }\n",
       "\n",
       "    .dataframe thead th {\n",
       "        text-align: right;\n",
       "    }\n",
       "</style>\n",
       "<table border=\"1\" class=\"dataframe\">\n",
       "  <thead>\n",
       "    <tr style=\"text-align: right;\">\n",
       "      <th></th>\n",
       "      <th>state</th>\n",
       "      <th>year</th>\n",
       "      <th>spirits</th>\n",
       "      <th>unemp</th>\n",
       "      <th>income</th>\n",
       "      <th>emppop</th>\n",
       "      <th>beertax</th>\n",
       "      <th>baptist</th>\n",
       "      <th>mormon</th>\n",
       "      <th>drinkage</th>\n",
       "      <th>...</th>\n",
       "      <th>afatal</th>\n",
       "      <th>pop</th>\n",
       "      <th>pop1517</th>\n",
       "      <th>pop1820</th>\n",
       "      <th>pop2124</th>\n",
       "      <th>milestot</th>\n",
       "      <th>unempus</th>\n",
       "      <th>emppopus</th>\n",
       "      <th>gsp</th>\n",
       "      <th>frate</th>\n",
       "    </tr>\n",
       "  </thead>\n",
       "  <tbody>\n",
       "    <tr>\n",
       "      <th>6</th>\n",
       "      <td>al</td>\n",
       "      <td>1988</td>\n",
       "      <td>1.17</td>\n",
       "      <td>7.2</td>\n",
       "      <td>12368.624023</td>\n",
       "      <td>56.834530</td>\n",
       "      <td>1.501444</td>\n",
       "      <td>30.223301</td>\n",
       "      <td>0.43018</td>\n",
       "      <td>21.0</td>\n",
       "      <td>...</td>\n",
       "      <td>298.321991</td>\n",
       "      <td>4101992.25</td>\n",
       "      <td>2.010001e+05</td>\n",
       "      <td>1.930005e+05</td>\n",
       "      <td>2.629998e+05</td>\n",
       "      <td>39684.000000</td>\n",
       "      <td>5.5</td>\n",
       "      <td>62.300003</td>\n",
       "      <td>0.035392</td>\n",
       "      <td>2.49391</td>\n",
       "    </tr>\n",
       "    <tr>\n",
       "      <th>13</th>\n",
       "      <td>az</td>\n",
       "      <td>1988</td>\n",
       "      <td>1.68</td>\n",
       "      <td>6.3</td>\n",
       "      <td>14408.084961</td>\n",
       "      <td>60.497665</td>\n",
       "      <td>0.346487</td>\n",
       "      <td>3.564000</td>\n",
       "      <td>4.41399</td>\n",
       "      <td>21.0</td>\n",
       "      <td>...</td>\n",
       "      <td>238.233994</td>\n",
       "      <td>3488995.00</td>\n",
       "      <td>1.479999e+05</td>\n",
       "      <td>1.570007e+05</td>\n",
       "      <td>2.180000e+05</td>\n",
       "      <td>34247.000000</td>\n",
       "      <td>5.5</td>\n",
       "      <td>62.300003</td>\n",
       "      <td>0.026568</td>\n",
       "      <td>2.70565</td>\n",
       "    </tr>\n",
       "    <tr>\n",
       "      <th>20</th>\n",
       "      <td>ar</td>\n",
       "      <td>1988</td>\n",
       "      <td>0.99</td>\n",
       "      <td>7.7</td>\n",
       "      <td>11760.346680</td>\n",
       "      <td>57.366951</td>\n",
       "      <td>0.524543</td>\n",
       "      <td>23.170000</td>\n",
       "      <td>0.43018</td>\n",
       "      <td>21.0</td>\n",
       "      <td>...</td>\n",
       "      <td>208.850006</td>\n",
       "      <td>2395002.75</td>\n",
       "      <td>1.140000e+05</td>\n",
       "      <td>1.099991e+05</td>\n",
       "      <td>1.459999e+05</td>\n",
       "      <td>19219.000000</td>\n",
       "      <td>5.5</td>\n",
       "      <td>62.300003</td>\n",
       "      <td>0.033734</td>\n",
       "      <td>2.54697</td>\n",
       "    </tr>\n",
       "    <tr>\n",
       "      <th>27</th>\n",
       "      <td>ca</td>\n",
       "      <td>1988</td>\n",
       "      <td>1.72</td>\n",
       "      <td>5.3</td>\n",
       "      <td>18049.085938</td>\n",
       "      <td>63.783657</td>\n",
       "      <td>0.086622</td>\n",
       "      <td>1.794100</td>\n",
       "      <td>1.61578</td>\n",
       "      <td>21.0</td>\n",
       "      <td>...</td>\n",
       "      <td>1246.709961</td>\n",
       "      <td>28314028.00</td>\n",
       "      <td>1.126998e+06</td>\n",
       "      <td>1.227989e+06</td>\n",
       "      <td>1.770001e+06</td>\n",
       "      <td>241575.015625</td>\n",
       "      <td>5.5</td>\n",
       "      <td>62.300003</td>\n",
       "      <td>0.049020</td>\n",
       "      <td>1.90365</td>\n",
       "    </tr>\n",
       "    <tr>\n",
       "      <th>34</th>\n",
       "      <td>co</td>\n",
       "      <td>1988</td>\n",
       "      <td>1.74</td>\n",
       "      <td>6.4</td>\n",
       "      <td>15845.042969</td>\n",
       "      <td>65.304451</td>\n",
       "      <td>0.173244</td>\n",
       "      <td>2.300000</td>\n",
       "      <td>1.89382</td>\n",
       "      <td>21.0</td>\n",
       "      <td>...</td>\n",
       "      <td>132.949997</td>\n",
       "      <td>3301009.75</td>\n",
       "      <td>1.360000e+05</td>\n",
       "      <td>1.490010e+05</td>\n",
       "      <td>2.089997e+05</td>\n",
       "      <td>27664.998047</td>\n",
       "      <td>5.5</td>\n",
       "      <td>62.300003</td>\n",
       "      <td>0.008626</td>\n",
       "      <td>1.50560</td>\n",
       "    </tr>\n",
       "  </tbody>\n",
       "</table>\n",
       "<p>5 rows × 35 columns</p>\n",
       "</div>"
      ],
      "text/plain": [
       "   state  year  spirits  unemp        income     emppop   beertax    baptist  \\\n",
       "6     al  1988     1.17    7.2  12368.624023  56.834530  1.501444  30.223301   \n",
       "13    az  1988     1.68    6.3  14408.084961  60.497665  0.346487   3.564000   \n",
       "20    ar  1988     0.99    7.7  11760.346680  57.366951  0.524543  23.170000   \n",
       "27    ca  1988     1.72    5.3  18049.085938  63.783657  0.086622   1.794100   \n",
       "34    co  1988     1.74    6.4  15845.042969  65.304451  0.173244   2.300000   \n",
       "\n",
       "     mormon  drinkage  ...       afatal          pop       pop1517  \\\n",
       "6   0.43018      21.0  ...   298.321991   4101992.25  2.010001e+05   \n",
       "13  4.41399      21.0  ...   238.233994   3488995.00  1.479999e+05   \n",
       "20  0.43018      21.0  ...   208.850006   2395002.75  1.140000e+05   \n",
       "27  1.61578      21.0  ...  1246.709961  28314028.00  1.126998e+06   \n",
       "34  1.89382      21.0  ...   132.949997   3301009.75  1.360000e+05   \n",
       "\n",
       "         pop1820       pop2124       milestot  unempus   emppopus       gsp  \\\n",
       "6   1.930005e+05  2.629998e+05   39684.000000      5.5  62.300003  0.035392   \n",
       "13  1.570007e+05  2.180000e+05   34247.000000      5.5  62.300003  0.026568   \n",
       "20  1.099991e+05  1.459999e+05   19219.000000      5.5  62.300003  0.033734   \n",
       "27  1.227989e+06  1.770001e+06  241575.015625      5.5  62.300003  0.049020   \n",
       "34  1.490010e+05  2.089997e+05   27664.998047      5.5  62.300003  0.008626   \n",
       "\n",
       "      frate  \n",
       "6   2.49391  \n",
       "13  2.70565  \n",
       "20  2.54697  \n",
       "27  1.90365  \n",
       "34  1.50560  \n",
       "\n",
       "[5 rows x 35 columns]"
      ]
     },
     "execution_count": 7,
     "metadata": {},
     "output_type": "execute_result"
    }
   ],
   "source": [
    "f1988.head()"
   ]
  },
  {
   "cell_type": "markdown",
   "metadata": {},
   "source": [
    "## 10.2 Panel Data with Two Time Periods: \"Before and After\" Comparisons\n"
   ]
  },
  {
   "cell_type": "code",
   "execution_count": 8,
   "metadata": {},
   "outputs": [],
   "source": [
    "delta_frate = np.array(f1988['frate']).reshape(-1,1) - np.array(f1982['frate']).reshape(-1,1)\n",
    "delta_beertax = np.array(f1988['beertax']).reshape(-1,1) - np.array(f1982['beertax']).reshape(-1,1)"
   ]
  },
  {
   "cell_type": "code",
   "execution_count": 9,
   "metadata": {},
   "outputs": [
    {
     "data": {
      "image/png": "[encoded data removed]",
      "text/plain": [
       "<Figure size 432x288 with 1 Axes>"
      ]
     },
     "metadata": {
      "needs_background": "light"
     },
     "output_type": "display_data"
    }
   ],
   "source": [
    "fig = plt.figure()\n",
    "\n",
    "ax = fig.add_axes([0,0,1,1])\n",
    "ax.scatter(delta_beertax, delta_frate, color='black', marker='.')\n",
    "\n",
    "reg_delta = LinearRegression().fit(delta_beertax, delta_frate)\n",
    "\n",
    "max_num = max(delta_beertax)+0.08\n",
    "min_num = min(delta_beertax)\n",
    "\n",
    "m = reg_delta.intercept_\n",
    "b = reg_delta.coef_\n",
    "x = np.arange(min_num, max_num, 0.01).reshape(-1,1)\n",
    "\n",
    "ax.plot(x, m+(b*x), color='black')\n",
    "\n",
    "\n",
    "ax.set_ylim(-1.5, 1)\n",
    "ax.set_xlim(-0.6, 0.6)\n",
    "\n",
    "ax.text(-0.8, 1.15, 'Change in fatality rate \\n (fatalities per 10,000)', fontsize='large', fontweight=\"bold\", fontfamily='serif', ma='center', linespacing=1.5)\n",
    "ax.set_xlabel('Change in beer Tax \\n (dollars per case $1988)', loc='right', fontsize='large', fontweight=\"bold\", fontfamily='serif', linespacing=1.5)\n",
    "ax.spines['top'].set_visible(False)\n",
    "ax.spines['right'].set_visible(False)\n",
    "ax.tick_params(axis='x', direction='in', pad=10, length=8, labelsize=12)\n",
    "ax.tick_params(axis='y', direction='in', pad=5, length=10, labelsize=12)\n",
    "\n",
    "\n",
    "ax.arrow(-0.33, 0.28, 0.05, 0.66, alpha=0.5)\n",
    "ax.text(-0.29, 0.97, r'$\\widehat{FatalityRate_{1988} - FatalityRate_{1982}}=-0.072-1.04(BeerTax_{1988} - BeerTax_{1982})$')\n",
    "\n",
    "\n",
    "plt.show()"
   ]
  },
  {
   "cell_type": "markdown",
   "metadata": {},
   "source": [
    "Unfortunately, some of these variables, such as the cultural acceptance of drinking and driving, might be very hard or even impossible to measure. \n",
    "\n",
    "If these factors remain constant over time in a given state, however, then another route is available. Because we have panel data, we can in effect hold these factors constant even though we cannot measure them. To do so, we use OLS regression with fixed effects. "
   ]
  },
  {
   "cell_type": "markdown",
   "metadata": {},
   "source": [
    "## 10.3 Fixed Effects Regression\n",
    "\n",
    "Fixed effects regression is a method for controlling for omitted variables in panel data when the omitted variables vary across entities (states) but do not change over time. Unlike the \"before and after\" comparisons of Section 10.2, fixed effects regression can be used when there are two or more time observations for each entity. "
   ]
  },
  {
   "cell_type": "markdown",
   "metadata": {},
   "source": [
    "Consider the regression model in the equation with the dependent variable ***(FatalityRate)*** and observed regressor ***(BeerTax)*** denoted as $Y_{it}$ and $X_{it}$, respectively: \n",
    "\n",
    "$Y_{it} = \\beta + \\beta_{1}X_{it} + \\beta_{2}Z_{i} + u_{it}$\n",
    "\n",
    "\n",
    "where $Z_i$ is an unobserved variable that varies from one state to the next but does not change over time (for example, $Z_i$ represents cultural attitutes towards drinking and driving). **We want to estimate $\\beta_i$, the effect on Y of X holding constant the unobserved state characteristics Z.** "
   ]
  },
  {
   "cell_type": "code",
   "execution_count": 10,
   "metadata": {},
   "outputs": [
    {
     "data": {
      "text/plain": [
       "Index(['state', 'year', 'spirits', 'unemp', 'income', 'emppop', 'beertax',\n",
       "       'baptist', 'mormon', 'drinkage', 'dry', 'youngdrivers', 'miles',\n",
       "       'breath', 'jail', 'service', 'fatal', 'nfatal', 'sfatal', 'fatal1517',\n",
       "       'nfatal1517', 'fatal1820', 'nfatal1820', 'fatal2124', 'nfatal2124',\n",
       "       'afatal', 'pop', 'pop1517', 'pop1820', 'pop2124', 'milestot', 'unempus',\n",
       "       'emppopus', 'gsp', 'frate'],\n",
       "      dtype='object')"
      ]
     },
     "execution_count": 10,
     "metadata": {},
     "output_type": "execute_result"
    }
   ],
   "source": [
    "df.columns"
   ]
  },
  {
   "cell_type": "code",
   "execution_count": 11,
   "metadata": {},
   "outputs": [
    {
     "data": {
      "text/html": [
       "<div>\n",
       "<style scoped>\n",
       "    .dataframe tbody tr th:only-of-type {\n",
       "        vertical-align: middle;\n",
       "    }\n",
       "\n",
       "    .dataframe tbody tr th {\n",
       "        vertical-align: top;\n",
       "    }\n",
       "\n",
       "    .dataframe thead th {\n",
       "        text-align: right;\n",
       "    }\n",
       "</style>\n",
       "<table border=\"1\" class=\"dataframe\">\n",
       "  <thead>\n",
       "    <tr style=\"text-align: right;\">\n",
       "      <th></th>\n",
       "      <th>state</th>\n",
       "      <th>year</th>\n",
       "      <th>spirits</th>\n",
       "      <th>unemp</th>\n",
       "      <th>income</th>\n",
       "      <th>emppop</th>\n",
       "      <th>beertax</th>\n",
       "      <th>baptist</th>\n",
       "      <th>mormon</th>\n",
       "      <th>drinkage</th>\n",
       "      <th>...</th>\n",
       "      <th>afatal</th>\n",
       "      <th>pop</th>\n",
       "      <th>pop1517</th>\n",
       "      <th>pop1820</th>\n",
       "      <th>pop2124</th>\n",
       "      <th>milestot</th>\n",
       "      <th>unempus</th>\n",
       "      <th>emppopus</th>\n",
       "      <th>gsp</th>\n",
       "      <th>frate</th>\n",
       "    </tr>\n",
       "  </thead>\n",
       "  <tbody>\n",
       "    <tr>\n",
       "      <th>0</th>\n",
       "      <td>al</td>\n",
       "      <td>1982</td>\n",
       "      <td>1.37</td>\n",
       "      <td>14.4</td>\n",
       "      <td>10544.152344</td>\n",
       "      <td>50.692039</td>\n",
       "      <td>1.539379</td>\n",
       "      <td>30.355700</td>\n",
       "      <td>0.32829</td>\n",
       "      <td>19.00</td>\n",
       "      <td>...</td>\n",
       "      <td>309.437988</td>\n",
       "      <td>3942002.25</td>\n",
       "      <td>208999.593750</td>\n",
       "      <td>221553.43750</td>\n",
       "      <td>290000.06250</td>\n",
       "      <td>28516.0</td>\n",
       "      <td>9.7</td>\n",
       "      <td>57.799999</td>\n",
       "      <td>-0.022125</td>\n",
       "      <td>2.12836</td>\n",
       "    </tr>\n",
       "    <tr>\n",
       "      <th>1</th>\n",
       "      <td>al</td>\n",
       "      <td>1983</td>\n",
       "      <td>1.36</td>\n",
       "      <td>13.7</td>\n",
       "      <td>10732.797852</td>\n",
       "      <td>52.147030</td>\n",
       "      <td>1.788991</td>\n",
       "      <td>30.333599</td>\n",
       "      <td>0.34341</td>\n",
       "      <td>19.00</td>\n",
       "      <td>...</td>\n",
       "      <td>341.834015</td>\n",
       "      <td>3960008.00</td>\n",
       "      <td>202000.078125</td>\n",
       "      <td>219125.46875</td>\n",
       "      <td>290000.15625</td>\n",
       "      <td>31032.0</td>\n",
       "      <td>9.6</td>\n",
       "      <td>57.900002</td>\n",
       "      <td>0.046558</td>\n",
       "      <td>2.34848</td>\n",
       "    </tr>\n",
       "    <tr>\n",
       "      <th>2</th>\n",
       "      <td>al</td>\n",
       "      <td>1984</td>\n",
       "      <td>1.32</td>\n",
       "      <td>11.1</td>\n",
       "      <td>11108.791016</td>\n",
       "      <td>54.168087</td>\n",
       "      <td>1.714286</td>\n",
       "      <td>30.311501</td>\n",
       "      <td>0.35924</td>\n",
       "      <td>19.00</td>\n",
       "      <td>...</td>\n",
       "      <td>304.872009</td>\n",
       "      <td>3988991.75</td>\n",
       "      <td>196999.968750</td>\n",
       "      <td>216724.09375</td>\n",
       "      <td>288000.15625</td>\n",
       "      <td>32961.0</td>\n",
       "      <td>7.5</td>\n",
       "      <td>59.500004</td>\n",
       "      <td>0.062798</td>\n",
       "      <td>2.33643</td>\n",
       "    </tr>\n",
       "    <tr>\n",
       "      <th>3</th>\n",
       "      <td>al</td>\n",
       "      <td>1985</td>\n",
       "      <td>1.28</td>\n",
       "      <td>8.9</td>\n",
       "      <td>11332.626953</td>\n",
       "      <td>55.271137</td>\n",
       "      <td>1.652542</td>\n",
       "      <td>30.289499</td>\n",
       "      <td>0.37579</td>\n",
       "      <td>19.67</td>\n",
       "      <td>...</td>\n",
       "      <td>276.742004</td>\n",
       "      <td>4021007.75</td>\n",
       "      <td>194999.734375</td>\n",
       "      <td>214349.03125</td>\n",
       "      <td>284000.31250</td>\n",
       "      <td>35091.0</td>\n",
       "      <td>7.2</td>\n",
       "      <td>60.100002</td>\n",
       "      <td>0.027490</td>\n",
       "      <td>2.19348</td>\n",
       "    </tr>\n",
       "    <tr>\n",
       "      <th>4</th>\n",
       "      <td>al</td>\n",
       "      <td>1986</td>\n",
       "      <td>1.23</td>\n",
       "      <td>9.8</td>\n",
       "      <td>11661.506836</td>\n",
       "      <td>56.514496</td>\n",
       "      <td>1.609907</td>\n",
       "      <td>30.267401</td>\n",
       "      <td>0.39311</td>\n",
       "      <td>21.00</td>\n",
       "      <td>...</td>\n",
       "      <td>360.716003</td>\n",
       "      <td>4049993.75</td>\n",
       "      <td>203999.890625</td>\n",
       "      <td>212000.00000</td>\n",
       "      <td>263000.28125</td>\n",
       "      <td>36259.0</td>\n",
       "      <td>7.0</td>\n",
       "      <td>60.700001</td>\n",
       "      <td>0.032143</td>\n",
       "      <td>2.66914</td>\n",
       "    </tr>\n",
       "  </tbody>\n",
       "</table>\n",
       "<p>5 rows × 35 columns</p>\n",
       "</div>"
      ],
      "text/plain": [
       "  state  year  spirits  unemp        income     emppop   beertax    baptist  \\\n",
       "0    al  1982     1.37   14.4  10544.152344  50.692039  1.539379  30.355700   \n",
       "1    al  1983     1.36   13.7  10732.797852  52.147030  1.788991  30.333599   \n",
       "2    al  1984     1.32   11.1  11108.791016  54.168087  1.714286  30.311501   \n",
       "3    al  1985     1.28    8.9  11332.626953  55.271137  1.652542  30.289499   \n",
       "4    al  1986     1.23    9.8  11661.506836  56.514496  1.609907  30.267401   \n",
       "\n",
       "    mormon  drinkage  ...      afatal         pop        pop1517  \\\n",
       "0  0.32829     19.00  ...  309.437988  3942002.25  208999.593750   \n",
       "1  0.34341     19.00  ...  341.834015  3960008.00  202000.078125   \n",
       "2  0.35924     19.00  ...  304.872009  3988991.75  196999.968750   \n",
       "3  0.37579     19.67  ...  276.742004  4021007.75  194999.734375   \n",
       "4  0.39311     21.00  ...  360.716003  4049993.75  203999.890625   \n",
       "\n",
       "        pop1820       pop2124 milestot  unempus   emppopus       gsp    frate  \n",
       "0  221553.43750  290000.06250  28516.0      9.7  57.799999 -0.022125  2.12836  \n",
       "1  219125.46875  290000.15625  31032.0      9.6  57.900002  0.046558  2.34848  \n",
       "2  216724.09375  288000.15625  32961.0      7.5  59.500004  0.062798  2.33643  \n",
       "3  214349.03125  284000.31250  35091.0      7.2  60.100002  0.027490  2.19348  \n",
       "4  212000.00000  263000.28125  36259.0      7.0  60.700001  0.032143  2.66914  \n",
       "\n",
       "[5 rows x 35 columns]"
      ]
     },
     "execution_count": 11,
     "metadata": {},
     "output_type": "execute_result"
    }
   ],
   "source": [
    "df.head()"
   ]
  },
  {
   "cell_type": "code",
   "execution_count": 12,
   "metadata": {},
   "outputs": [],
   "source": [
    "from category_encoders import OneHotEncoder"
   ]
  },
  {
   "cell_type": "code",
   "execution_count": 13,
   "metadata": {},
   "outputs": [
    {
     "data": {
      "text/plain": [
       "array(['al', 'az', 'ar', 'ca', 'co', 'ct', 'de', 'fl', 'ga', 'id', 'il',\n",
       "       'in', 'ia', 'ks', 'ky', 'la', 'me', 'md', 'ma', 'mi', 'mn', 'ms',\n",
       "       'mo', 'mt', 'ne', 'nv', 'nh', 'nj', 'nm', 'ny', 'nc', 'nd', 'oh',\n",
       "       'ok', 'or', 'pa', 'ri', 'sc', 'sd', 'tn', 'tx', 'ut', 'vt', 'va',\n",
       "       'wa', 'wv', 'wi', 'wy'], dtype=object)"
      ]
     },
     "execution_count": 13,
     "metadata": {},
     "output_type": "execute_result"
    }
   ],
   "source": [
    "df['state'].unique()"
   ]
  },
  {
   "cell_type": "code",
   "execution_count": 14,
   "metadata": {},
   "outputs": [],
   "source": [
    "raw_df = df[['state', 'beertax', 'frate']]"
   ]
  },
  {
   "cell_type": "code",
   "execution_count": 15,
   "metadata": {},
   "outputs": [
    {
     "data": {
      "text/html": [
       "<div>\n",
       "<style scoped>\n",
       "    .dataframe tbody tr th:only-of-type {\n",
       "        vertical-align: middle;\n",
       "    }\n",
       "\n",
       "    .dataframe tbody tr th {\n",
       "        vertical-align: top;\n",
       "    }\n",
       "\n",
       "    .dataframe thead th {\n",
       "        text-align: right;\n",
       "    }\n",
       "</style>\n",
       "<table border=\"1\" class=\"dataframe\">\n",
       "  <thead>\n",
       "    <tr style=\"text-align: right;\">\n",
       "      <th></th>\n",
       "      <th>state</th>\n",
       "      <th>beertax</th>\n",
       "      <th>frate</th>\n",
       "    </tr>\n",
       "  </thead>\n",
       "  <tbody>\n",
       "    <tr>\n",
       "      <th>0</th>\n",
       "      <td>al</td>\n",
       "      <td>1.539379</td>\n",
       "      <td>2.12836</td>\n",
       "    </tr>\n",
       "    <tr>\n",
       "      <th>1</th>\n",
       "      <td>al</td>\n",
       "      <td>1.788991</td>\n",
       "      <td>2.34848</td>\n",
       "    </tr>\n",
       "    <tr>\n",
       "      <th>2</th>\n",
       "      <td>al</td>\n",
       "      <td>1.714286</td>\n",
       "      <td>2.33643</td>\n",
       "    </tr>\n",
       "    <tr>\n",
       "      <th>3</th>\n",
       "      <td>al</td>\n",
       "      <td>1.652542</td>\n",
       "      <td>2.19348</td>\n",
       "    </tr>\n",
       "    <tr>\n",
       "      <th>4</th>\n",
       "      <td>al</td>\n",
       "      <td>1.609907</td>\n",
       "      <td>2.66914</td>\n",
       "    </tr>\n",
       "  </tbody>\n",
       "</table>\n",
       "</div>"
      ],
      "text/plain": [
       "  state   beertax    frate\n",
       "0    al  1.539379  2.12836\n",
       "1    al  1.788991  2.34848\n",
       "2    al  1.714286  2.33643\n",
       "3    al  1.652542  2.19348\n",
       "4    al  1.609907  2.66914"
      ]
     },
     "execution_count": 15,
     "metadata": {},
     "output_type": "execute_result"
    }
   ],
   "source": [
    "raw_df.head()"
   ]
  },
  {
   "cell_type": "code",
   "execution_count": 16,
   "metadata": {},
   "outputs": [],
   "source": [
    "OHE = OneHotEncoder(cols=['state'], use_cat_names=True)"
   ]
  },
  {
   "cell_type": "code",
   "execution_count": 17,
   "metadata": {},
   "outputs": [
    {
     "name": "stderr",
     "output_type": "stream",
     "text": [
      "C:\\Users\\shawnyoon\\anaconda3\\envs\\traffic_fatalities\\lib\\site-packages\\category_encoders\\utils.py:21: FutureWarning: is_categorical is deprecated and will be removed in a future version.  Use is_categorical_dtype instead\n",
      "  elif pd.api.types.is_categorical(cols):\n"
     ]
    }
   ],
   "source": [
    "encoded_df = OHE.fit_transform(raw_df)"
   ]
  },
  {
   "cell_type": "code",
   "execution_count": 18,
   "metadata": {},
   "outputs": [
    {
     "data": {
      "text/plain": [
       "Index(['state_al', 'state_az', 'state_ar', 'state_ca', 'state_co', 'state_ct',\n",
       "       'state_de', 'state_fl', 'state_ga', 'state_id', 'state_il', 'state_in',\n",
       "       'state_ia', 'state_ks', 'state_ky', 'state_la', 'state_me', 'state_md',\n",
       "       'state_ma', 'state_mi', 'state_mn', 'state_ms', 'state_mo', 'state_mt',\n",
       "       'state_ne', 'state_nv', 'state_nh', 'state_nj', 'state_nm', 'state_ny',\n",
       "       'state_nc', 'state_nd', 'state_oh', 'state_ok', 'state_or', 'state_pa',\n",
       "       'state_ri', 'state_sc', 'state_sd', 'state_tn', 'state_tx', 'state_ut',\n",
       "       'state_vt', 'state_va', 'state_wa', 'state_wv', 'state_wi', 'state_wy',\n",
       "       'beertax', 'frate'],\n",
       "      dtype='object')"
      ]
     },
     "execution_count": 18,
     "metadata": {},
     "output_type": "execute_result"
    }
   ],
   "source": [
    "encoded_df.columns"
   ]
  },
  {
   "cell_type": "code",
   "execution_count": 19,
   "metadata": {},
   "outputs": [
    {
     "data": {
      "text/html": [
       "<div>\n",
       "<style scoped>\n",
       "    .dataframe tbody tr th:only-of-type {\n",
       "        vertical-align: middle;\n",
       "    }\n",
       "\n",
       "    .dataframe tbody tr th {\n",
       "        vertical-align: top;\n",
       "    }\n",
       "\n",
       "    .dataframe thead th {\n",
       "        text-align: right;\n",
       "    }\n",
       "</style>\n",
       "<table border=\"1\" class=\"dataframe\">\n",
       "  <thead>\n",
       "    <tr style=\"text-align: right;\">\n",
       "      <th></th>\n",
       "      <th>state_al</th>\n",
       "      <th>state_az</th>\n",
       "      <th>state_ar</th>\n",
       "      <th>state_ca</th>\n",
       "      <th>state_co</th>\n",
       "      <th>state_ct</th>\n",
       "      <th>state_de</th>\n",
       "      <th>state_fl</th>\n",
       "      <th>state_ga</th>\n",
       "      <th>state_id</th>\n",
       "      <th>...</th>\n",
       "      <th>state_tx</th>\n",
       "      <th>state_ut</th>\n",
       "      <th>state_vt</th>\n",
       "      <th>state_va</th>\n",
       "      <th>state_wa</th>\n",
       "      <th>state_wv</th>\n",
       "      <th>state_wi</th>\n",
       "      <th>state_wy</th>\n",
       "      <th>beertax</th>\n",
       "      <th>frate</th>\n",
       "    </tr>\n",
       "  </thead>\n",
       "  <tbody>\n",
       "    <tr>\n",
       "      <th>0</th>\n",
       "      <td>1</td>\n",
       "      <td>0</td>\n",
       "      <td>0</td>\n",
       "      <td>0</td>\n",
       "      <td>0</td>\n",
       "      <td>0</td>\n",
       "      <td>0</td>\n",
       "      <td>0</td>\n",
       "      <td>0</td>\n",
       "      <td>0</td>\n",
       "      <td>...</td>\n",
       "      <td>0</td>\n",
       "      <td>0</td>\n",
       "      <td>0</td>\n",
       "      <td>0</td>\n",
       "      <td>0</td>\n",
       "      <td>0</td>\n",
       "      <td>0</td>\n",
       "      <td>0</td>\n",
       "      <td>1.539379</td>\n",
       "      <td>2.12836</td>\n",
       "    </tr>\n",
       "    <tr>\n",
       "      <th>1</th>\n",
       "      <td>1</td>\n",
       "      <td>0</td>\n",
       "      <td>0</td>\n",
       "      <td>0</td>\n",
       "      <td>0</td>\n",
       "      <td>0</td>\n",
       "      <td>0</td>\n",
       "      <td>0</td>\n",
       "      <td>0</td>\n",
       "      <td>0</td>\n",
       "      <td>...</td>\n",
       "      <td>0</td>\n",
       "      <td>0</td>\n",
       "      <td>0</td>\n",
       "      <td>0</td>\n",
       "      <td>0</td>\n",
       "      <td>0</td>\n",
       "      <td>0</td>\n",
       "      <td>0</td>\n",
       "      <td>1.788991</td>\n",
       "      <td>2.34848</td>\n",
       "    </tr>\n",
       "    <tr>\n",
       "      <th>2</th>\n",
       "      <td>1</td>\n",
       "      <td>0</td>\n",
       "      <td>0</td>\n",
       "      <td>0</td>\n",
       "      <td>0</td>\n",
       "      <td>0</td>\n",
       "      <td>0</td>\n",
       "      <td>0</td>\n",
       "      <td>0</td>\n",
       "      <td>0</td>\n",
       "      <td>...</td>\n",
       "      <td>0</td>\n",
       "      <td>0</td>\n",
       "      <td>0</td>\n",
       "      <td>0</td>\n",
       "      <td>0</td>\n",
       "      <td>0</td>\n",
       "      <td>0</td>\n",
       "      <td>0</td>\n",
       "      <td>1.714286</td>\n",
       "      <td>2.33643</td>\n",
       "    </tr>\n",
       "    <tr>\n",
       "      <th>3</th>\n",
       "      <td>1</td>\n",
       "      <td>0</td>\n",
       "      <td>0</td>\n",
       "      <td>0</td>\n",
       "      <td>0</td>\n",
       "      <td>0</td>\n",
       "      <td>0</td>\n",
       "      <td>0</td>\n",
       "      <td>0</td>\n",
       "      <td>0</td>\n",
       "      <td>...</td>\n",
       "      <td>0</td>\n",
       "      <td>0</td>\n",
       "      <td>0</td>\n",
       "      <td>0</td>\n",
       "      <td>0</td>\n",
       "      <td>0</td>\n",
       "      <td>0</td>\n",
       "      <td>0</td>\n",
       "      <td>1.652542</td>\n",
       "      <td>2.19348</td>\n",
       "    </tr>\n",
       "    <tr>\n",
       "      <th>4</th>\n",
       "      <td>1</td>\n",
       "      <td>0</td>\n",
       "      <td>0</td>\n",
       "      <td>0</td>\n",
       "      <td>0</td>\n",
       "      <td>0</td>\n",
       "      <td>0</td>\n",
       "      <td>0</td>\n",
       "      <td>0</td>\n",
       "      <td>0</td>\n",
       "      <td>...</td>\n",
       "      <td>0</td>\n",
       "      <td>0</td>\n",
       "      <td>0</td>\n",
       "      <td>0</td>\n",
       "      <td>0</td>\n",
       "      <td>0</td>\n",
       "      <td>0</td>\n",
       "      <td>0</td>\n",
       "      <td>1.609907</td>\n",
       "      <td>2.66914</td>\n",
       "    </tr>\n",
       "  </tbody>\n",
       "</table>\n",
       "<p>5 rows × 50 columns</p>\n",
       "</div>"
      ],
      "text/plain": [
       "   state_al  state_az  state_ar  state_ca  state_co  state_ct  state_de  \\\n",
       "0         1         0         0         0         0         0         0   \n",
       "1         1         0         0         0         0         0         0   \n",
       "2         1         0         0         0         0         0         0   \n",
       "3         1         0         0         0         0         0         0   \n",
       "4         1         0         0         0         0         0         0   \n",
       "\n",
       "   state_fl  state_ga  state_id  ...  state_tx  state_ut  state_vt  state_va  \\\n",
       "0         0         0         0  ...         0         0         0         0   \n",
       "1         0         0         0  ...         0         0         0         0   \n",
       "2         0         0         0  ...         0         0         0         0   \n",
       "3         0         0         0  ...         0         0         0         0   \n",
       "4         0         0         0  ...         0         0         0         0   \n",
       "\n",
       "   state_wa  state_wv  state_wi  state_wy   beertax    frate  \n",
       "0         0         0         0         0  1.539379  2.12836  \n",
       "1         0         0         0         0  1.788991  2.34848  \n",
       "2         0         0         0         0  1.714286  2.33643  \n",
       "3         0         0         0         0  1.652542  2.19348  \n",
       "4         0         0         0         0  1.609907  2.66914  \n",
       "\n",
       "[5 rows x 50 columns]"
      ]
     },
     "execution_count": 19,
     "metadata": {},
     "output_type": "execute_result"
    }
   ],
   "source": [
    "encoded_df.head()"
   ]
  },
  {
   "cell_type": "code",
   "execution_count": 20,
   "metadata": {},
   "outputs": [
    {
     "data": {
      "text/plain": [
       "Index(['state_az', 'state_ar', 'state_ca', 'state_co', 'state_ct', 'state_de',\n",
       "       'state_fl', 'state_ga', 'state_id', 'state_il', 'state_in', 'state_ia',\n",
       "       'state_ks', 'state_ky', 'state_la', 'state_me', 'state_md', 'state_ma',\n",
       "       'state_mi', 'state_mn', 'state_ms', 'state_mo', 'state_mt', 'state_ne',\n",
       "       'state_nv', 'state_nh', 'state_nj', 'state_nm', 'state_ny', 'state_nc',\n",
       "       'state_nd', 'state_oh', 'state_ok', 'state_or', 'state_pa', 'state_ri',\n",
       "       'state_sc', 'state_sd', 'state_tn', 'state_tx', 'state_ut', 'state_vt',\n",
       "       'state_va', 'state_wa', 'state_wv', 'state_wi', 'state_wy', 'beertax'],\n",
       "      dtype='object')"
      ]
     },
     "execution_count": 20,
     "metadata": {},
     "output_type": "execute_result"
    }
   ],
   "source": [
    "encoded_df.columns[1:49]"
   ]
  },
  {
   "cell_type": "code",
   "execution_count": 21,
   "metadata": {},
   "outputs": [],
   "source": [
    "x_cols = encoded_df.columns[1:49]"
   ]
  },
  {
   "cell_type": "code",
   "execution_count": 22,
   "metadata": {},
   "outputs": [
    {
     "data": {
      "text/plain": [
       "Index(['state_az', 'state_ar', 'state_ca', 'state_co', 'state_ct', 'state_de',\n",
       "       'state_fl', 'state_ga', 'state_id', 'state_il', 'state_in', 'state_ia',\n",
       "       'state_ks', 'state_ky', 'state_la', 'state_me', 'state_md', 'state_ma',\n",
       "       'state_mi', 'state_mn', 'state_ms', 'state_mo', 'state_mt', 'state_ne',\n",
       "       'state_nv', 'state_nh', 'state_nj', 'state_nm', 'state_ny', 'state_nc',\n",
       "       'state_nd', 'state_oh', 'state_ok', 'state_or', 'state_pa', 'state_ri',\n",
       "       'state_sc', 'state_sd', 'state_tn', 'state_tx', 'state_ut', 'state_vt',\n",
       "       'state_va', 'state_wa', 'state_wv', 'state_wi', 'state_wy', 'beertax'],\n",
       "      dtype='object')"
      ]
     },
     "execution_count": 22,
     "metadata": {},
     "output_type": "execute_result"
    }
   ],
   "source": [
    "x_cols"
   ]
  },
  {
   "cell_type": "code",
   "execution_count": 23,
   "metadata": {},
   "outputs": [],
   "source": [
    "y = encoded_df['frate']\n",
    "x = encoded_df[x_cols]"
   ]
  },
  {
   "cell_type": "code",
   "execution_count": 24,
   "metadata": {},
   "outputs": [],
   "source": [
    "fe_reg = LinearRegression().fit(x,y)"
   ]
  },
  {
   "cell_type": "code",
   "execution_count": 25,
   "metadata": {},
   "outputs": [
    {
     "data": {
      "text/plain": [
       "3.477630106671823"
      ]
     },
     "execution_count": 25,
     "metadata": {},
     "output_type": "execute_result"
    }
   ],
   "source": [
    "fe_reg.intercept_"
   ]
  },
  {
   "cell_type": "code",
   "execution_count": 26,
   "metadata": {},
   "outputs": [
    {
     "data": {
      "text/plain": [
       "array([-0.56772686, -0.65495158, -1.50946884, -1.48428042, -1.86225728,\n",
       "       -1.30760203, -0.26813023,  0.52460299, -0.66902248, -1.96162256,\n",
       "       -1.46154161, -1.54393218, -1.223216  , -1.21751698, -0.84711624,\n",
       "       -1.10794738, -1.70643969, -2.10974622, -1.48452689, -1.89721306,\n",
       "       -0.02907982, -1.29626171, -0.36039155, -1.52217786, -0.60077496,\n",
       "       -1.25445437, -2.10574952,  0.42637496, -2.18667   , -0.29046505,\n",
       "       -1.62343932, -1.67441932, -0.54506097, -1.16799987, -1.76746626,\n",
       "       -2.26505428,  0.5571737 , -1.00372082, -0.87565863, -0.91747345,\n",
       "       -1.16395046, -0.96604382, -1.29018324, -1.65952377, -0.89675402,\n",
       "       -1.75926637, -0.22850373, -0.65587372])"
      ]
     },
     "execution_count": 26,
     "metadata": {},
     "output_type": "execute_result"
    }
   ],
   "source": [
    "fe_reg.coef_"
   ]
  },
  {
   "cell_type": "markdown",
   "metadata": {},
   "source": [
    "Looking at the result above, I wondered if running an indiviual regression for each state would result in the same coefficient and the intercept as those of a regression with all the states combined. And the results were different - mathematical proof for it will be added in the future."
   ]
  },
  {
   "cell_type": "code",
   "execution_count": 27,
   "metadata": {},
   "outputs": [],
   "source": [
    "al_df = df[df[\"state\"]==\"al\"]"
   ]
  },
  {
   "cell_type": "code",
   "execution_count": 28,
   "metadata": {},
   "outputs": [],
   "source": [
    "al_x = al_df[\"beertax\"]\n",
    "al_y = al_df[\"frate\"]"
   ]
  },
  {
   "cell_type": "code",
   "execution_count": 29,
   "metadata": {},
   "outputs": [],
   "source": [
    "al_x = np.array(al_x).reshape(-1,1)\n",
    "al_y = np.array(al_y).reshape(-1,1)"
   ]
  },
  {
   "cell_type": "code",
   "execution_count": 30,
   "metadata": {},
   "outputs": [],
   "source": [
    "al_reg = LinearRegression().fit(al_x, al_y)"
   ]
  },
  {
   "cell_type": "code",
   "execution_count": 31,
   "metadata": {},
   "outputs": [
    {
     "data": {
      "text/plain": [
       "array([3.26313831])"
      ]
     },
     "execution_count": 31,
     "metadata": {},
     "output_type": "execute_result"
    }
   ],
   "source": [
    "al_reg.intercept_"
   ]
  },
  {
   "cell_type": "code",
   "execution_count": 32,
   "metadata": {},
   "outputs": [
    {
     "data": {
      "text/plain": [
       "array([[-0.52378063]])"
      ]
     },
     "execution_count": 32,
     "metadata": {},
     "output_type": "execute_result"
    }
   ],
   "source": [
    "al_reg.coef_"
   ]
  },
  {
   "cell_type": "markdown",
   "metadata": {},
   "source": [
    "### The \"entity-demeaned\" OLS algorithm\n",
    "\n",
    "$\\tilde{Y_{it}} = \\beta_1\\tilde{X_{it}}+\\tilde{u_{it}}$\n",
    "\n",
    "$Y_{it}-\\bar{Y_i} = \\beta_1(X_{it}-\\bar{X_i}) + (u_{it} - \\bar{u_i})$"
   ]
  },
  {
   "cell_type": "code",
   "execution_count": 33,
   "metadata": {},
   "outputs": [],
   "source": [
    "ed_df = df.copy()"
   ]
  },
  {
   "cell_type": "code",
   "execution_count": 34,
   "metadata": {},
   "outputs": [],
   "source": [
    "groupby_df = ed_df.groupby([\"state\"]).mean()[[\"beertax\",\"frate\"]]"
   ]
  },
  {
   "cell_type": "code",
   "execution_count": 35,
   "metadata": {},
   "outputs": [],
   "source": [
    "# gropuby function reorders the order of the states -> This causes problem when we demean. \n",
    "# So, I reindex according to the order of the original dataframe. \n",
    "\n",
    "state_order = ed_df.state.unique()\n",
    "groupby_df = groupby_df.reindex(index=state_order)"
   ]
  },
  {
   "cell_type": "code",
   "execution_count": 36,
   "metadata": {},
   "outputs": [],
   "source": [
    "mean_bt_i = groupby_df[\"beertax\"]\n",
    "mean_fr_i = groupby_df[\"frate\"]"
   ]
  },
  {
   "cell_type": "code",
   "execution_count": 37,
   "metadata": {},
   "outputs": [],
   "source": [
    "mean_bt_list = []\n",
    "for i in mean_bt_i:\n",
    "    for m in range(7):\n",
    "        mean_bt_list.append(i)\n",
    "        \n",
    "mean_fr_list = []\n",
    "for i in mean_fr_i:\n",
    "    for m in range(7):\n",
    "        mean_fr_list.append(i)"
   ]
  },
  {
   "cell_type": "code",
   "execution_count": 38,
   "metadata": {},
   "outputs": [],
   "source": [
    "mean_bt = pd.Series(mean_bt_list)\n",
    "mean_fr = pd.Series(mean_fr_list)"
   ]
  },
  {
   "cell_type": "code",
   "execution_count": 39,
   "metadata": {},
   "outputs": [],
   "source": [
    "ed_df[\"dm_beertax\"] = ed_df[\"beertax\"] - mean_bt\n",
    "ed_df[\"dm_frate\"] = ed_df[\"frate\"] - mean_fr"
   ]
  },
  {
   "cell_type": "code",
   "execution_count": 40,
   "metadata": {},
   "outputs": [
    {
     "data": {
      "text/html": [
       "<div>\n",
       "<style scoped>\n",
       "    .dataframe tbody tr th:only-of-type {\n",
       "        vertical-align: middle;\n",
       "    }\n",
       "\n",
       "    .dataframe tbody tr th {\n",
       "        vertical-align: top;\n",
       "    }\n",
       "\n",
       "    .dataframe thead th {\n",
       "        text-align: right;\n",
       "    }\n",
       "</style>\n",
       "<table border=\"1\" class=\"dataframe\">\n",
       "  <thead>\n",
       "    <tr style=\"text-align: right;\">\n",
       "      <th></th>\n",
       "      <th>state</th>\n",
       "      <th>year</th>\n",
       "      <th>beertax</th>\n",
       "      <th>frate</th>\n",
       "      <th>dm_beertax</th>\n",
       "      <th>dm_frate</th>\n",
       "    </tr>\n",
       "  </thead>\n",
       "  <tbody>\n",
       "    <tr>\n",
       "      <th>0</th>\n",
       "      <td>al</td>\n",
       "      <td>1982</td>\n",
       "      <td>1.539379</td>\n",
       "      <td>2.12836</td>\n",
       "      <td>-0.084413</td>\n",
       "      <td>-0.284267</td>\n",
       "    </tr>\n",
       "    <tr>\n",
       "      <th>1</th>\n",
       "      <td>al</td>\n",
       "      <td>1983</td>\n",
       "      <td>1.788991</td>\n",
       "      <td>2.34848</td>\n",
       "      <td>0.165198</td>\n",
       "      <td>-0.064147</td>\n",
       "    </tr>\n",
       "    <tr>\n",
       "      <th>2</th>\n",
       "      <td>al</td>\n",
       "      <td>1984</td>\n",
       "      <td>1.714286</td>\n",
       "      <td>2.33643</td>\n",
       "      <td>0.090493</td>\n",
       "      <td>-0.076197</td>\n",
       "    </tr>\n",
       "    <tr>\n",
       "      <th>3</th>\n",
       "      <td>al</td>\n",
       "      <td>1985</td>\n",
       "      <td>1.652542</td>\n",
       "      <td>2.19348</td>\n",
       "      <td>0.028750</td>\n",
       "      <td>-0.219147</td>\n",
       "    </tr>\n",
       "    <tr>\n",
       "      <th>4</th>\n",
       "      <td>al</td>\n",
       "      <td>1986</td>\n",
       "      <td>1.609907</td>\n",
       "      <td>2.66914</td>\n",
       "      <td>-0.013886</td>\n",
       "      <td>0.256513</td>\n",
       "    </tr>\n",
       "    <tr>\n",
       "      <th>5</th>\n",
       "      <td>al</td>\n",
       "      <td>1987</td>\n",
       "      <td>1.560000</td>\n",
       "      <td>2.71859</td>\n",
       "      <td>-0.063793</td>\n",
       "      <td>0.305963</td>\n",
       "    </tr>\n",
       "    <tr>\n",
       "      <th>6</th>\n",
       "      <td>al</td>\n",
       "      <td>1988</td>\n",
       "      <td>1.501444</td>\n",
       "      <td>2.49391</td>\n",
       "      <td>-0.122349</td>\n",
       "      <td>0.081283</td>\n",
       "    </tr>\n",
       "    <tr>\n",
       "      <th>7</th>\n",
       "      <td>az</td>\n",
       "      <td>1982</td>\n",
       "      <td>0.214797</td>\n",
       "      <td>2.49914</td>\n",
       "      <td>-0.096243</td>\n",
       "      <td>-0.206760</td>\n",
       "    </tr>\n",
       "    <tr>\n",
       "      <th>8</th>\n",
       "      <td>az</td>\n",
       "      <td>1983</td>\n",
       "      <td>0.206422</td>\n",
       "      <td>2.26738</td>\n",
       "      <td>-0.104618</td>\n",
       "      <td>-0.438520</td>\n",
       "    </tr>\n",
       "    <tr>\n",
       "      <th>9</th>\n",
       "      <td>az</td>\n",
       "      <td>1984</td>\n",
       "      <td>0.296703</td>\n",
       "      <td>2.82878</td>\n",
       "      <td>-0.014337</td>\n",
       "      <td>0.122880</td>\n",
       "    </tr>\n",
       "  </tbody>\n",
       "</table>\n",
       "</div>"
      ],
      "text/plain": [
       "  state  year   beertax    frate  dm_beertax  dm_frate\n",
       "0    al  1982  1.539379  2.12836   -0.084413 -0.284267\n",
       "1    al  1983  1.788991  2.34848    0.165198 -0.064147\n",
       "2    al  1984  1.714286  2.33643    0.090493 -0.076197\n",
       "3    al  1985  1.652542  2.19348    0.028750 -0.219147\n",
       "4    al  1986  1.609907  2.66914   -0.013886  0.256513\n",
       "5    al  1987  1.560000  2.71859   -0.063793  0.305963\n",
       "6    al  1988  1.501444  2.49391   -0.122349  0.081283\n",
       "7    az  1982  0.214797  2.49914   -0.096243 -0.206760\n",
       "8    az  1983  0.206422  2.26738   -0.104618 -0.438520\n",
       "9    az  1984  0.296703  2.82878   -0.014337  0.122880"
      ]
     },
     "execution_count": 40,
     "metadata": {},
     "output_type": "execute_result"
    }
   ],
   "source": [
    "ed_df[[\"state\", \"year\", \"beertax\", \"frate\", \"dm_beertax\", \"dm_frate\"]].head(10)"
   ]
  },
  {
   "cell_type": "code",
   "execution_count": 41,
   "metadata": {},
   "outputs": [],
   "source": [
    "x = np.array(ed_df[\"dm_beertax\"]).reshape(-1,1)\n",
    "y = np.array(ed_df[\"dm_frate\"]).reshape(-1,1)\n",
    "\n",
    "ed_reg = LinearRegression(fit_intercept=False).fit(x,y)"
   ]
  },
  {
   "cell_type": "code",
   "execution_count": 42,
   "metadata": {},
   "outputs": [
    {
     "data": {
      "text/plain": [
       "0.0"
      ]
     },
     "execution_count": 42,
     "metadata": {},
     "output_type": "execute_result"
    }
   ],
   "source": [
    "ed_reg.intercept_"
   ]
  },
  {
   "cell_type": "code",
   "execution_count": 43,
   "metadata": {},
   "outputs": [
    {
     "data": {
      "text/plain": [
       "array([[-0.65587372]])"
      ]
     },
     "execution_count": 43,
     "metadata": {},
     "output_type": "execute_result"
    }
   ],
   "source": [
    "ed_reg.coef_"
   ]
  },
  {
   "cell_type": "markdown",
   "metadata": {},
   "source": [
    "## 10.4 Regression with Time Fixed Effect"
   ]
  },
  {
   "cell_type": "markdown",
   "metadata": {},
   "source": [
    "Just as fixed effects for each entitiy can control for variables that are constant over time but differ across entities, so can time fixed effects control for variables that are constant across entities but evolve over time. "
   ]
  },
  {
   "cell_type": "markdown",
   "metadata": {},
   "source": [
    "Because safety improvements in new cars are introduced nationally, they serve to reduce traffi fatatlities in all states. So, it is plausible to think of automobile safety as an omitted variable that changes over time but has the same value for all states. "
   ]
  },
  {
   "cell_type": "markdown",
   "metadata": {},
   "source": [
    "$Y_{it} = \\beta_0 + \\beta_{1}X_{it} + \\beta_{2}Z_{i} + \\beta_{3}S_t + u_{it}$\n"
   ]
  },
  {
   "cell_type": "markdown",
   "metadata": {},
   "source": [
    "### Let's do both Entity and Time Fixed Effects"
   ]
  },
  {
   "cell_type": "code",
   "execution_count": 44,
   "metadata": {},
   "outputs": [],
   "source": [
    "ETF_df = df.copy()\n",
    "ETF_df = ETF_df[['state', 'year', 'frate', 'beertax']]"
   ]
  },
  {
   "cell_type": "code",
   "execution_count": 45,
   "metadata": {},
   "outputs": [
    {
     "name": "stderr",
     "output_type": "stream",
     "text": [
      "C:\\Users\\shawnyoon\\anaconda3\\envs\\traffic_fatalities\\lib\\site-packages\\category_encoders\\utils.py:21: FutureWarning: is_categorical is deprecated and will be removed in a future version.  Use is_categorical_dtype instead\n",
      "  elif pd.api.types.is_categorical(cols):\n"
     ]
    }
   ],
   "source": [
    "OHE = OneHotEncoder(cols=['state', 'year'], use_cat_names=True)\n",
    "encoded_df = OHE.fit_transform(ETF_df)"
   ]
  },
  {
   "cell_type": "code",
   "execution_count": 46,
   "metadata": {},
   "outputs": [
    {
     "data": {
      "text/plain": [
       "Index(['state_al', 'state_az', 'state_ar', 'state_ca', 'state_co', 'state_ct',\n",
       "       'state_de', 'state_fl', 'state_ga', 'state_id', 'state_il', 'state_in',\n",
       "       'state_ia', 'state_ks', 'state_ky', 'state_la', 'state_me', 'state_md',\n",
       "       'state_ma', 'state_mi', 'state_mn', 'state_ms', 'state_mo', 'state_mt',\n",
       "       'state_ne', 'state_nv', 'state_nh', 'state_nj', 'state_nm', 'state_ny',\n",
       "       'state_nc', 'state_nd', 'state_oh', 'state_ok', 'state_or', 'state_pa',\n",
       "       'state_ri', 'state_sc', 'state_sd', 'state_tn', 'state_tx', 'state_ut',\n",
       "       'state_vt', 'state_va', 'state_wa', 'state_wv', 'state_wi', 'state_wy',\n",
       "       'year_1982.0', 'year_1983.0', 'year_1984.0', 'year_1985.0',\n",
       "       'year_1986.0', 'year_1987.0', 'year_1988.0', 'frate', 'beertax'],\n",
       "      dtype='object')"
      ]
     },
     "execution_count": 46,
     "metadata": {},
     "output_type": "execute_result"
    }
   ],
   "source": [
    "encoded_df.columns"
   ]
  },
  {
   "cell_type": "code",
   "execution_count": 47,
   "metadata": {},
   "outputs": [],
   "source": [
    "states = encoded_df.columns[1:48]\n",
    "years = encoded_df.columns[49:55]"
   ]
  },
  {
   "cell_type": "code",
   "execution_count": 48,
   "metadata": {},
   "outputs": [],
   "source": [
    "binary_vars = np.array(states.append(years))\n",
    "var_cols = np.append(binary_vars, ['beertax'])"
   ]
  },
  {
   "cell_type": "code",
   "execution_count": 49,
   "metadata": {},
   "outputs": [],
   "source": [
    "y = encoded_df['frate']\n",
    "x = encoded_df[var_cols]"
   ]
  },
  {
   "cell_type": "code",
   "execution_count": 50,
   "metadata": {},
   "outputs": [],
   "source": [
    "ETF_reg = LinearRegression().fit(x,y)"
   ]
  },
  {
   "cell_type": "code",
   "execution_count": 51,
   "metadata": {},
   "outputs": [
    {
     "data": {
      "text/plain": [
       "3.511374842643843"
      ]
     },
     "execution_count": 51,
     "metadata": {},
     "output_type": "execute_result"
    }
   ],
   "source": [
    "ETF_reg.intercept_"
   ]
  },
  {
   "cell_type": "code",
   "execution_count": 52,
   "metadata": {},
   "outputs": [
    {
     "data": {
      "text/plain": [
       "54"
      ]
     },
     "execution_count": 52,
     "metadata": {},
     "output_type": "execute_result"
    }
   ],
   "source": [
    "len(var_cols)"
   ]
  },
  {
   "cell_type": "code",
   "execution_count": 53,
   "metadata": {},
   "outputs": [
    {
     "data": {
      "text/plain": [
       "54"
      ]
     },
     "execution_count": 53,
     "metadata": {},
     "output_type": "execute_result"
    }
   ],
   "source": [
    "len(ETF_reg.coef_)"
   ]
  },
  {
   "cell_type": "code",
   "execution_count": 54,
   "metadata": {},
   "outputs": [
    {
     "data": {
      "text/plain": [
       "array(['state_az', 'state_ar', 'state_ca', 'state_co', 'state_ct',\n",
       "       'state_de', 'state_fl', 'state_ga', 'state_id', 'state_il',\n",
       "       'state_in', 'state_ia', 'state_ks', 'state_ky', 'state_la',\n",
       "       'state_me', 'state_md', 'state_ma', 'state_mi', 'state_mn',\n",
       "       'state_ms', 'state_mo', 'state_mt', 'state_ne', 'state_nv',\n",
       "       'state_nh', 'state_nj', 'state_nm', 'state_ny', 'state_nc',\n",
       "       'state_nd', 'state_oh', 'state_ok', 'state_or', 'state_pa',\n",
       "       'state_ri', 'state_sc', 'state_sd', 'state_tn', 'state_tx',\n",
       "       'state_ut', 'state_vt', 'state_va', 'state_wa', 'state_wv',\n",
       "       'state_wi', 'state_wy', 'year_1983.0', 'year_1984.0',\n",
       "       'year_1985.0', 'year_1986.0', 'year_1987.0', 'year_1988.0',\n",
       "       'beertax'], dtype=object)"
      ]
     },
     "execution_count": 54,
     "metadata": {},
     "output_type": "execute_result"
    }
   ],
   "source": [
    "var_cols"
   ]
  },
  {
   "cell_type": "code",
   "execution_count": 55,
   "metadata": {},
   "outputs": [
    {
     "data": {
      "text/plain": [
       "array([-0.54686232, -0.63852989, -1.48519185, -1.46153456, -1.84012926,\n",
       "       -1.28426072, -0.26005336,  0.51162235, -0.64895611, -1.93850243,\n",
       "       -1.44014065, -1.52428293, -1.20430819, -1.19478813, -0.83365927,\n",
       "       -1.09424487, -1.68406811, -2.08802111, -1.46649791, -1.87649325,\n",
       "       -0.01991255, -1.27539508, -0.33977453, -1.50291357, -0.57815576,\n",
       "       -1.23892952, -2.08121733,  0.44610528, -2.16288237, -0.28507207,\n",
       "       -1.60375574, -1.65473573, -0.53361421, -1.14540219, -1.74574115,\n",
       "       -2.24172999,  0.55358402, -0.98820245, -0.85467057, -0.89855442,\n",
       "       -1.14972188, -0.95037946, -1.27519513, -1.63712993, -0.8777372 ,\n",
       "       -1.73592506, -0.20346117, -0.07990287, -0.07242056, -0.12397632,\n",
       "       -0.03786447, -0.05090206, -0.05180381, -0.63997999])"
      ]
     },
     "execution_count": 55,
     "metadata": {},
     "output_type": "execute_result"
    }
   ],
   "source": [
    "ETF_reg.coef_"
   ]
  },
  {
   "cell_type": "markdown",
   "metadata": {},
   "source": [
    "## 13.3 Experimental Estimates of the Effect of Class Size Reductions\n",
    "\n",
    "In this section we return to a question addressed in Part II: What is the effect on test scores of reducing class size in the early grades? In the late 1980s, Tennessee conducted a large, multimillion-dollar randomized controlled experiment to ascertain whether class size reduction was an effective way to improve elementary education. The results of this experiment have strongly influenced our understanding of the effect of class size reductions. \n",
    "\n",
    "### Experimental Design\n",
    "\n",
    "The Tennessee class size reduction experiment, known as Project STAR (Student Teacher Achievement Ratio), was a 4-year experiment design to evaluate the effect on learning of small class sizes. The study compared three different class arrangements for kindergarten through third grade: a regular class size, with 22 to 25 students per class, a single teacher, and no aides; a small class size, with 13 to 17 students per class and no aide; and a regular-sized class plus a teacher's aide. "
   ]
  },
  {
   "cell_type": "markdown",
   "metadata": {},
   "source": [
    "### Analysis of the STAR Data\n",
    "\n",
    "Because there are two treatment groups - small class and regular class with aide - the regression version of the differences estimator needs to be modified to handle the two treatment groups and the control group. This modificaiton is done by introducing two binary variables, one indicating whether the student is in a small class and another indicating whether the student is in a regular-sized class with an aide, which leads to the population regression model \n",
    "\n",
    "$Y_i = \\beta_0 + \\beta_1SmallClass_i + \\beta_2RegAide_i + u_i$ "
   ]
  },
  {
   "cell_type": "markdown",
   "metadata": {},
   "source": [
    "**Treatment Group_1 (Small Class w/o Aide)** \n",
    "\n",
    "$Y_i = \\beta_0 + \\beta_1(1) + \\beta_2(0) + u_i$ \n",
    "\n",
    "**Control Group (Reg Class w/o Aide)** \n",
    "\n",
    "$Y_i = \\beta_0 + \\beta_1(0) + \\beta_2(0) + u_i$ \n",
    "\n",
    "**Treatment Group_2 (Reg Class w Aide)** \n",
    "\n",
    "$Y_i = \\beta_0 + \\beta_1(0) + \\beta_2(1) + u_i$ "
   ]
  },
  {
   "cell_type": "markdown",
   "metadata": {},
   "source": [
    "## I have a question on p.483 (524) \n",
    "\n",
    "I don't understand \"the gender of the student taking the test is not randomly assigned). "
   ]
  },
  {
   "cell_type": "markdown",
   "metadata": {},
   "source": [
    "### 13.4 Quasi-Experiments\n",
    "\n",
    "The statistical insights and methods of randomized controlled experiments can carry over to nonexperimental settings. In a **quasi-experiment**, also called a **natural experiment**, randomness is introduced by variations in individual circumstances that make it appear as if the treatment is randomly assigned. "
   ]
  },
  {
   "cell_type": "markdown",
   "metadata": {},
   "source": [
    "# Okay, I thinks it be helpful to look at randomization and interaction variables \n",
    "\n",
    "\n",
    "p. 485 (526) \n",
    "\n",
    "## Comparison of the Observational and Experimental Estimates of Class Size Effects\n",
    "\n",
    "Part II presented multiple regression estimates of the class size effect based on observational data for California and Massachusetts school districts. In those data, class size was not randomly assigned, but instead was determined by local school officials trying to balance educational objectives against budgetary realities. How do those observational estimates compare with the experimental estimates from Project STAR? "
   ]
  },
  {
   "cell_type": "markdown",
   "metadata": {},
   "source": [
    "- Okay, randomization is done. \n",
    "\n",
    "- Let's do non-linear (which is interaction) p. 252 (293)\n",
    "\n"
   ]
  },
  {
   "cell_type": "markdown",
   "metadata": {},
   "source": [
    "# The Differences-in-Differences Estimator (A.K.A DID) \n",
    "\n",
    "p.490 (531)\n",
    "\n",
    "Let's first study \n",
    "\n",
    "1. Differences estimator p.472 (513) \n",
    "* Experiment (519)"
   ]
  },
  {
   "cell_type": "markdown",
   "metadata": {},
   "source": [
    "### The Differences-in-Differences Estimator\n",
    "\n",
    "If the treatment in a quasi-experiment is \"as if\" randomly assigned, conditional on some observed variables W, then the treatment effect can be estimated using the differences regression (13.2)."
   ]
  },
  {
   "cell_type": "markdown",
   "metadata": {},
   "source": [
    "Differences Regression: \n",
    "\n",
    "$Y_i = \\beta_0 + \\beta_1X_i + \\beta_2W_{1i} + ....+ \\beta_{1+r}W_{ri}+ u_i$"
   ]
  },
  {
   "cell_type": "markdown",
   "metadata": {},
   "source": [
    "### 13.2 Threats to Validity of Experiments\n"
   ]
  },
  {
   "cell_type": "markdown",
   "metadata": {},
   "source": [
    "# Chapter 9: Assessing Studies Based on Multiple Regression\n",
    "\n",
    "## 9.1 Internal and External Validity \n",
    "\n",
    "The concepts of internal and external validity, defined in Key Concept 9.1, provide a framework for evaluating whether a statistical or econometric study is useful for answering a specific question of interest. \n",
    "\n",
    "Internal and external validity distinguish between the **population and setting studied** and **the population and setting to which the results are generalized**. The **population studied** is the population of entitities - people, companies, school districts, and so forth - from which the sample was drawn. **The population to which the results are generalized**, or the population of interest, is the population of entities to which the causal inferences from the study are to be applied. For example, a high school (grades 9 through 12) principal might want to generalize our findings on class sizes and test scores in California elementary school districts (the population studied) to the population of high schools (the population of interest). \n",
    "\n",
    "**Internal and External Validity:** \n",
    "A statistical analysis is said to have internal validity if the statistical inferences about causal effects are valid for the population being studied. The analysis is said to have external validity if its inferences and conclusions can be generalized from the population and setting studied to other populations and settings. \n",
    "\n",
    "\n",
    "#### Threats to Internal Validity \n",
    "\n",
    "Internal validity has two components. First, the estimator of the causal effect should be unbiased and consistent. \n",
    "\n",
    "**I understand unbiasedness. For the consistency of an estimator, I think it means that as the sample size gets bigger, the value of the estimator gets closer to the true population beta.** So the consistency ahs to do with what regression method I am using. Refer back to Concept 6.4.\n",
    "\n",
    "Second, hypothesis tests should have the desired significance level, and confidence intervals should have the desired confidence level. \n",
    "\n",
    "#### Threats to External Validity\n",
    "\n",
    "Potential threats to external validity arise from differences between the population and setting studided and the poulation and setting of interest. \n",
    "\n",
    "**Differences in populations:** Differences between the population studied and the population of interest can pose a threat to external validity. For example, laboratory studies of the toxic effects of chemicals typically use animal populations like mice (the population studied), but the resutls are used to write health and safety regulations for human populations (the population of interest). Whether mice and men differ sufficiently to threaten the external validity of such studies is a matter of debate. \n",
    "\n",
    "More generally, the true causal effect might not be the same in the population studied and the population of interest. This could be because the population was chosen in a way that makes it different from the population of interest, because of differences in characteristics of the populations, because of geographical differences, or because the study is out of date. \n",
    "\n",
    "**Differences in settings:** Even if the population being studied and the population of interest are identical, it might not be possible to generalize the study results if the settings differ. For example, a study of the effect on college binge drinking of an antidrinking advertising campaign might not generalize to another identical group of college students if the legal penalities for drinking at the two colleges differ. In this case, the legal setting in which the study was conducted differs from the legal setting to which its results are applied. \n",
    "\n",
    "**How to assess the external validity of a study** External validity must be judge using specific knowledge of the populations and settings studided and those of interest. Important differences between the two will cast doubt on the external validity of the study. \n",
    "\n",
    "Sometimes there are two or more studies on different but related populations. If so, the external validity of both studies can be checked by comparing their results. For example, in Section 9.4 we analyze test score and class size data for elementary school districts in Massachusetts and compare the Massachusetts and California results. In general, similar findings in two or more studies bolster claims to external validity, while differences in their findings that are not readily explained cast doubt on their external validity. \n",
    "\n",
    "\n",
    "\n",
    "## 9.2 Threats to Internal Validity of Multiple Regression Analysis\n",
    "\n",
    "### Omitted Variable Bias \n",
    "\n",
    "#### Solutions to omitted variable bias when adequate control variables are not available. \n",
    "\n",
    "Adding an omitted variable to a regression is not an option if you do not have data on that variable and if there are no adequate control variables. Still, there are three other ways to solve omitted variable bias. Each of these three solutions circumvents omitted variable bias through the use of different types of data. \n",
    "\n",
    "1. The first solution is to use data in which the same observational unit is observed at different point in time. For example, test score and related data might be collected for the same districts in 1995 and again in 2000. Data in this form are called panel data. As explained in Chapter 10, panel data make it possible to control for unobserved omitted variables as long as those omitted variables do not change over time. \n",
    "\n",
    "\n",
    "2. The second solution is to use instrumental variables regression. This method relies on a new variable, called an instrumental variable. Instrumental variables regression is discussed in Chapter 12. \n",
    "\n",
    "\n",
    "3. The third solution is to use a study design in which the effect of interest (for example, the effect of reducing class size on student achievement) is studied using a randomized controlled experiment. Randomized controlled experiments are discussed in Chapter 13. "
   ]
  },
  {
   "cell_type": "markdown",
   "metadata": {},
   "source": [
    "## 9.4 Example: Test Scores and Class Size\n",
    "\n",
    "The framework of internal and external validity helps us to take a critical look at what we have learned - and what we have not - from our analysis of the CAlifornia test score data. \n",
    "\n",
    "### External Validity \n",
    "\n",
    "Whether the California analysis can be generalized - that is, whether it is externally valid - depends on the population and setting to which the gneralization is made. Here, we consider whether the results can be generalized to performance on other standardized tests in other elementary public school districts in the United States. \n",
    "\n",
    "Section 9.1 noted that having more than one study on the same topic provides an opportunity to assess the external validity of both studies by comparing their results. In the case of test scores and class size, other comparable data sets are, in fact, available. In this section, we examine a different data set, based on standardized test reuslts for fourth graders in 220 public school districts in MAssachusetts in 1998. Both the Massachusetts and California tests are broad measures of student knowledge and acadmics skills, although the details differ. Similarly, the organization of classroom instruction is broadly similar at the elementary school level in the two states, although aspects of elementary school funding and curriculum differ. Thus finiding similar results about the effect of the student-teacher ratio on test performance in the California and Massachusetts data would be evidence of external validity of the findings in California. Conversely, finding different results in the two states would raise questions about the internal or external validity of at least one of the studies. "
   ]
  },
  {
   "cell_type": "markdown",
   "metadata": {},
   "source": [
    "Because the researcher does not have control over the randomization, however, some differences might remain between the treatment and control groups even after controlling for W. \n",
    "\n",
    "One way to adjust for those remaining differences between the two groups is to compare not the outcomes Y, but the change in the outcomes pre- and post-treatment, thereby adjusting for differences in pretreatment values of Y in the two groups. "
   ]
  }
 ],
 "metadata": {
  "hide_input": false,
  "kernelspec": {
   "display_name": "Python 3",
   "language": "python",
   "name": "python3"
  },
  "language_info": {
   "codemirror_mode": {
    "name": "ipython",
    "version": 3
   },
   "file_extension": ".py",
   "mimetype": "text/x-python",
   "name": "python",
   "nbconvert_exporter": "python",
   "pygments_lexer": "ipython3",
   "version": "3.8.5"
  }
 },
 "nbformat": 4,
 "nbformat_minor": 4
}
