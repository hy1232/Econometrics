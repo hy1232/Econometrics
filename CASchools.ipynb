{
 "cells": [
  {
   "cell_type": "code",
   "execution_count": 11,
   "metadata": {},
   "outputs": [],
   "source": [
    "import pandas as pd \n",
    "import numpy as np \n",
    "import matplotlib.pyplot as plt \n",
    "from sklearn.linear_model import LinearRegression"
   ]
  },
  {
   "cell_type": "code",
   "execution_count": 12,
   "metadata": {},
   "outputs": [],
   "source": [
    "df = pd.read_csv('CASchools.csv')"
   ]
  },
  {
   "cell_type": "code",
   "execution_count": 13,
   "metadata": {},
   "outputs": [
    {
     "data": {
      "text/html": [
       "<div>\n",
       "<style scoped>\n",
       "    .dataframe tbody tr th:only-of-type {\n",
       "        vertical-align: middle;\n",
       "    }\n",
       "\n",
       "    .dataframe tbody tr th {\n",
       "        vertical-align: top;\n",
       "    }\n",
       "\n",
       "    .dataframe thead th {\n",
       "        text-align: right;\n",
       "    }\n",
       "</style>\n",
       "<table border=\"1\" class=\"dataframe\">\n",
       "  <thead>\n",
       "    <tr style=\"text-align: right;\">\n",
       "      <th></th>\n",
       "      <th>district</th>\n",
       "      <th>school</th>\n",
       "      <th>county</th>\n",
       "      <th>grades</th>\n",
       "      <th>students</th>\n",
       "      <th>teachers</th>\n",
       "      <th>calworks</th>\n",
       "      <th>lunch</th>\n",
       "      <th>computer</th>\n",
       "      <th>expenditure</th>\n",
       "      <th>income</th>\n",
       "      <th>english</th>\n",
       "      <th>read</th>\n",
       "      <th>math</th>\n",
       "    </tr>\n",
       "  </thead>\n",
       "  <tbody>\n",
       "    <tr>\n",
       "      <th>0</th>\n",
       "      <td>75119</td>\n",
       "      <td>Sunol Glen Unified</td>\n",
       "      <td>Alameda</td>\n",
       "      <td>KK-08</td>\n",
       "      <td>195</td>\n",
       "      <td>10.900000</td>\n",
       "      <td>0.510200</td>\n",
       "      <td>2.040800</td>\n",
       "      <td>67</td>\n",
       "      <td>6384.911133</td>\n",
       "      <td>22.690001</td>\n",
       "      <td>0.000000</td>\n",
       "      <td>691.599976</td>\n",
       "      <td>690.000000</td>\n",
       "    </tr>\n",
       "    <tr>\n",
       "      <th>1</th>\n",
       "      <td>61499</td>\n",
       "      <td>Manzanita Elementary</td>\n",
       "      <td>Butte</td>\n",
       "      <td>KK-08</td>\n",
       "      <td>240</td>\n",
       "      <td>11.150000</td>\n",
       "      <td>15.416700</td>\n",
       "      <td>47.916698</td>\n",
       "      <td>101</td>\n",
       "      <td>5099.380859</td>\n",
       "      <td>9.824000</td>\n",
       "      <td>4.583333</td>\n",
       "      <td>660.500000</td>\n",
       "      <td>661.900024</td>\n",
       "    </tr>\n",
       "    <tr>\n",
       "      <th>2</th>\n",
       "      <td>61549</td>\n",
       "      <td>Thermalito Union Elementary</td>\n",
       "      <td>Butte</td>\n",
       "      <td>KK-08</td>\n",
       "      <td>1550</td>\n",
       "      <td>82.900002</td>\n",
       "      <td>55.032299</td>\n",
       "      <td>76.322601</td>\n",
       "      <td>169</td>\n",
       "      <td>5501.954590</td>\n",
       "      <td>8.978000</td>\n",
       "      <td>30.000002</td>\n",
       "      <td>636.299988</td>\n",
       "      <td>650.900024</td>\n",
       "    </tr>\n",
       "    <tr>\n",
       "      <th>3</th>\n",
       "      <td>61457</td>\n",
       "      <td>Golden Feather Union Elementary</td>\n",
       "      <td>Butte</td>\n",
       "      <td>KK-08</td>\n",
       "      <td>243</td>\n",
       "      <td>14.000000</td>\n",
       "      <td>36.475399</td>\n",
       "      <td>77.049202</td>\n",
       "      <td>85</td>\n",
       "      <td>7101.831055</td>\n",
       "      <td>8.978000</td>\n",
       "      <td>0.000000</td>\n",
       "      <td>651.900024</td>\n",
       "      <td>643.500000</td>\n",
       "    </tr>\n",
       "    <tr>\n",
       "      <th>4</th>\n",
       "      <td>61523</td>\n",
       "      <td>Palermo Union Elementary</td>\n",
       "      <td>Butte</td>\n",
       "      <td>KK-08</td>\n",
       "      <td>1335</td>\n",
       "      <td>71.500000</td>\n",
       "      <td>33.108601</td>\n",
       "      <td>78.427002</td>\n",
       "      <td>171</td>\n",
       "      <td>5235.987793</td>\n",
       "      <td>9.080333</td>\n",
       "      <td>13.857677</td>\n",
       "      <td>641.799988</td>\n",
       "      <td>639.900024</td>\n",
       "    </tr>\n",
       "  </tbody>\n",
       "</table>\n",
       "</div>"
      ],
      "text/plain": [
       "   district                           school   county grades  students  \\\n",
       "0     75119               Sunol Glen Unified  Alameda  KK-08       195   \n",
       "1     61499             Manzanita Elementary    Butte  KK-08       240   \n",
       "2     61549      Thermalito Union Elementary    Butte  KK-08      1550   \n",
       "3     61457  Golden Feather Union Elementary    Butte  KK-08       243   \n",
       "4     61523         Palermo Union Elementary    Butte  KK-08      1335   \n",
       "\n",
       "    teachers   calworks      lunch  computer  expenditure     income  \\\n",
       "0  10.900000   0.510200   2.040800        67  6384.911133  22.690001   \n",
       "1  11.150000  15.416700  47.916698       101  5099.380859   9.824000   \n",
       "2  82.900002  55.032299  76.322601       169  5501.954590   8.978000   \n",
       "3  14.000000  36.475399  77.049202        85  7101.831055   8.978000   \n",
       "4  71.500000  33.108601  78.427002       171  5235.987793   9.080333   \n",
       "\n",
       "     english        read        math  \n",
       "0   0.000000  691.599976  690.000000  \n",
       "1   4.583333  660.500000  661.900024  \n",
       "2  30.000002  636.299988  650.900024  \n",
       "3   0.000000  651.900024  643.500000  \n",
       "4  13.857677  641.799988  639.900024  "
      ]
     },
     "execution_count": 13,
     "metadata": {},
     "output_type": "execute_result"
    }
   ],
   "source": [
    "df.head()"
   ]
  },
  {
   "cell_type": "code",
   "execution_count": 14,
   "metadata": {},
   "outputs": [],
   "source": [
    "df[\"score\"] = (df[\"read\"] + df[\"math\"]) / 2 \n",
    "\n",
    "df['stratio'] = df['students'] / df['teachers']"
   ]
  },
  {
   "cell_type": "code",
   "execution_count": 15,
   "metadata": {},
   "outputs": [],
   "source": [
    "x = np.array(df[\"stratio\"]).reshape(-1,1)\n",
    "y = np.array(df[\"score\"]).reshape(-1,1)"
   ]
  },
  {
   "cell_type": "code",
   "execution_count": 16,
   "metadata": {},
   "outputs": [],
   "source": [
    "reg  = LinearRegression().fit(x,y)"
   ]
  },
  {
   "cell_type": "code",
   "execution_count": 17,
   "metadata": {},
   "outputs": [
    {
     "data": {
      "text/plain": [
       "array([698.93294928])"
      ]
     },
     "execution_count": 17,
     "metadata": {},
     "output_type": "execute_result"
    }
   ],
   "source": [
    "reg.intercept_"
   ]
  },
  {
   "cell_type": "code",
   "execution_count": 18,
   "metadata": {},
   "outputs": [
    {
     "data": {
      "text/plain": [
       "array([[-2.27980814]])"
      ]
     },
     "execution_count": 18,
     "metadata": {},
     "output_type": "execute_result"
    }
   ],
   "source": [
    "reg.coef_"
   ]
  },
  {
   "cell_type": "code",
   "execution_count": 19,
   "metadata": {},
   "outputs": [],
   "source": [
    "from matplotlib.ticker import (MultipleLocator, FormatStrFormatter,\n",
    "                               AutoMinorLocator)"
   ]
  },
  {
   "cell_type": "code",
   "execution_count": 20,
   "metadata": {},
   "outputs": [
    {
     "data": {
      "image/png": "[encoded data removed]",
      "text/plain": [
       "<Figure size 576x288 with 1 Axes>"
      ]
     },
     "metadata": {
      "needs_background": "light"
     },
     "output_type": "display_data"
    }
   ],
   "source": [
    "fig = plt.figure(figsize=(8,4))\n",
    "\n",
    "ax = fig.add_axes([0, 0, 1, 1])\n",
    "ax.scatter(\"stratio\", \"score\", data=df, color='black', marker='.')\n",
    "ax.set_ylim(600, 720)\n",
    "ax.set_xlim(10, 30)\n",
    "ax.set_xlabel('Student-teacher ratio', fontsize='large', fontfamily='serif', fontweight='bold')\n",
    "ax.text(8.2,727,'Test score', fontsize='large', fontfamily='serif', ma='center', fontweight='bold')\n",
    "\n",
    "\n",
    "ax.xaxis.set_major_locator(MultipleLocator(5))\n",
    "ax.xaxis.set_major_formatter(FormatStrFormatter('%d'))\n",
    "ax.xaxis.set_minor_locator(MultipleLocator(1))\n",
    "\n",
    "ax.yaxis.set_major_locator(MultipleLocator(20))\n",
    "ax.yaxis.set_major_formatter(FormatStrFormatter('%d'))\n",
    "ax.yaxis.set_minor_locator(MultipleLocator(10))\n",
    "\n",
    "\n",
    "ax.spines['top'].set_visible(False)\n",
    "ax.spines['right'].set_visible(False)\n",
    "\n",
    "ax.tick_params(axis='x', which=\"major\", direction='in', pad=5, length=8, labelsize=12)\n",
    "ax.tick_params(axis='x', which=\"minor\", direction='in', length=4, labelsize=12)\n",
    "\n",
    "ax.tick_params(axis='y', which=\"major\", direction='in', pad=5, length=8, labelsize=12)\n",
    "ax.tick_params(axis='y', which=\"minor\", direction='in', length=4, labelsize=12)\n",
    "\n",
    "\n",
    "m = reg.intercept_\n",
    "b = reg.coef_\n",
    "x = np.arange(13,30,0.01).reshape(-1,1)\n",
    "\n",
    "ax.plot(x, m+(b*x), color='black')\n",
    "\n",
    "ax.text(7, 740, 'The Estimated Regression Line for the California Data', fontsize=15, fontfamily='serif', ma='center', fontweight='bold')\n",
    "\n",
    "\n",
    "ax.arrow(28, 637, -1, 50, alpha=0.5)\n",
    "ax.text(24, 690, r'$\\widehat{TestScore}=698.9-2.28STR$', fontsize=13)\n",
    "\n",
    "#ax.arrow(-0.33, 0.28, 0.05, 0.66, alpha=0.5)\n",
    "#ax.text(-0.29, 0.97, r'$\\widehat{FatalityRate_{1988} - FatalityRate_{1982}}=-0.072-1.04(BeerTax_{1988} - BeerTax_{1982})$')\n",
    "\n",
    "\n",
    "\n",
    "plt.show()"
   ]
  },
  {
   "cell_type": "markdown",
   "metadata": {},
   "source": [
    "## 5.4 Heteroskedasticity and Homoskedasticity\n",
    "\n",
    "Our only assumption about the distribution of $u_i$ conditional on $X_i$ is that it has a mean of zero (the first least squares assumption). If, furthermore, the variance of this conditional distribution does not depend on $X_i$, then the errors are said to be homoskedastic. This section discusses homoskedasticity, its theoretical implications, the simplified formulas for the standard errors of the OLS estimators that arise if the errors are homoskedastic, and the risks you run if you use these simplified formulas in practice. "
   ]
  },
  {
   "cell_type": "markdown",
   "metadata": {},
   "source": [
    "The error term, $u_i$ is **homoskedastic** if the variance of the conditional distribution of $u_i$ given $X_i$ is constant for i = 1,....,n and in particular does not depend on $X_i$. Otherwise, the error term is **Heteroskedastic**. "
   ]
  },
  {
   "cell_type": "markdown",
   "metadata": {},
   "source": [
    "# Chapter 6: Linear Regression with Multiple Regressors"
   ]
  },
  {
   "cell_type": "markdown",
   "metadata": {},
   "source": [
    "This chapter explains this \"omitted variable bias\" and introduces multiple regression, a method that can eliminate omitted variable bias. The key idea of multiple regression is that if we have data on these omitted variables, then we can include them as additional regressors and thereby estimate the effect of one regressor (the student-teacher ratio) while holding constant the other variables (such as student characteristics). "
   ]
  },
  {
   "cell_type": "code",
   "execution_count": null,
   "metadata": {},
   "outputs": [],
   "source": []
  },
  {
   "cell_type": "markdown",
   "metadata": {},
   "source": [
    "By focusing only on the student-teacher ratio, the empirical analysis in Chapters 4 and 5 ignored some potentially important determinants of test scores by collecting their influences in the regression error term. These omitted factors include school characteristics, such as teacher quality and computer usage, and student characteristics, such as family background. We begin by considering an omitted students characteristics that is particularly relevant in California because of its large immigrant population: the prevalence in the school district of students who are still learning English. "
   ]
  },
  {
   "cell_type": "markdown",
   "metadata": {},
   "source": [
    "Students who are still learning English might perform worse on standardized tests than native English speakers. If districts with large classes also have many students still learning English, then the OLS regression of test scores on the student-teacher ratio could erroneously find a correlation and produce a large estimated coefficient, when in fact the true causal effect of cutting class sizes on test scores is small, even zero. "
   ]
  },
  {
   "cell_type": "code",
   "execution_count": 21,
   "metadata": {},
   "outputs": [
    {
     "data": {
      "text/html": [
       "<div>\n",
       "<style scoped>\n",
       "    .dataframe tbody tr th:only-of-type {\n",
       "        vertical-align: middle;\n",
       "    }\n",
       "\n",
       "    .dataframe tbody tr th {\n",
       "        vertical-align: top;\n",
       "    }\n",
       "\n",
       "    .dataframe thead th {\n",
       "        text-align: right;\n",
       "    }\n",
       "</style>\n",
       "<table border=\"1\" class=\"dataframe\">\n",
       "  <thead>\n",
       "    <tr style=\"text-align: right;\">\n",
       "      <th></th>\n",
       "      <th>district</th>\n",
       "      <th>school</th>\n",
       "      <th>county</th>\n",
       "      <th>grades</th>\n",
       "      <th>students</th>\n",
       "      <th>teachers</th>\n",
       "      <th>calworks</th>\n",
       "      <th>lunch</th>\n",
       "      <th>computer</th>\n",
       "      <th>expenditure</th>\n",
       "      <th>income</th>\n",
       "      <th>english</th>\n",
       "      <th>read</th>\n",
       "      <th>math</th>\n",
       "      <th>score</th>\n",
       "      <th>stratio</th>\n",
       "    </tr>\n",
       "  </thead>\n",
       "  <tbody>\n",
       "    <tr>\n",
       "      <th>0</th>\n",
       "      <td>75119</td>\n",
       "      <td>Sunol Glen Unified</td>\n",
       "      <td>Alameda</td>\n",
       "      <td>KK-08</td>\n",
       "      <td>195</td>\n",
       "      <td>10.900000</td>\n",
       "      <td>0.510200</td>\n",
       "      <td>2.040800</td>\n",
       "      <td>67</td>\n",
       "      <td>6384.911133</td>\n",
       "      <td>22.690001</td>\n",
       "      <td>0.000000</td>\n",
       "      <td>691.599976</td>\n",
       "      <td>690.000000</td>\n",
       "      <td>690.799988</td>\n",
       "      <td>17.889909</td>\n",
       "    </tr>\n",
       "    <tr>\n",
       "      <th>1</th>\n",
       "      <td>61499</td>\n",
       "      <td>Manzanita Elementary</td>\n",
       "      <td>Butte</td>\n",
       "      <td>KK-08</td>\n",
       "      <td>240</td>\n",
       "      <td>11.150000</td>\n",
       "      <td>15.416700</td>\n",
       "      <td>47.916698</td>\n",
       "      <td>101</td>\n",
       "      <td>5099.380859</td>\n",
       "      <td>9.824000</td>\n",
       "      <td>4.583333</td>\n",
       "      <td>660.500000</td>\n",
       "      <td>661.900024</td>\n",
       "      <td>661.200012</td>\n",
       "      <td>21.524664</td>\n",
       "    </tr>\n",
       "    <tr>\n",
       "      <th>2</th>\n",
       "      <td>61549</td>\n",
       "      <td>Thermalito Union Elementary</td>\n",
       "      <td>Butte</td>\n",
       "      <td>KK-08</td>\n",
       "      <td>1550</td>\n",
       "      <td>82.900002</td>\n",
       "      <td>55.032299</td>\n",
       "      <td>76.322601</td>\n",
       "      <td>169</td>\n",
       "      <td>5501.954590</td>\n",
       "      <td>8.978000</td>\n",
       "      <td>30.000002</td>\n",
       "      <td>636.299988</td>\n",
       "      <td>650.900024</td>\n",
       "      <td>643.600006</td>\n",
       "      <td>18.697225</td>\n",
       "    </tr>\n",
       "    <tr>\n",
       "      <th>3</th>\n",
       "      <td>61457</td>\n",
       "      <td>Golden Feather Union Elementary</td>\n",
       "      <td>Butte</td>\n",
       "      <td>KK-08</td>\n",
       "      <td>243</td>\n",
       "      <td>14.000000</td>\n",
       "      <td>36.475399</td>\n",
       "      <td>77.049202</td>\n",
       "      <td>85</td>\n",
       "      <td>7101.831055</td>\n",
       "      <td>8.978000</td>\n",
       "      <td>0.000000</td>\n",
       "      <td>651.900024</td>\n",
       "      <td>643.500000</td>\n",
       "      <td>647.700012</td>\n",
       "      <td>17.357143</td>\n",
       "    </tr>\n",
       "    <tr>\n",
       "      <th>4</th>\n",
       "      <td>61523</td>\n",
       "      <td>Palermo Union Elementary</td>\n",
       "      <td>Butte</td>\n",
       "      <td>KK-08</td>\n",
       "      <td>1335</td>\n",
       "      <td>71.500000</td>\n",
       "      <td>33.108601</td>\n",
       "      <td>78.427002</td>\n",
       "      <td>171</td>\n",
       "      <td>5235.987793</td>\n",
       "      <td>9.080333</td>\n",
       "      <td>13.857677</td>\n",
       "      <td>641.799988</td>\n",
       "      <td>639.900024</td>\n",
       "      <td>640.850006</td>\n",
       "      <td>18.671329</td>\n",
       "    </tr>\n",
       "    <tr>\n",
       "      <th>...</th>\n",
       "      <td>...</td>\n",
       "      <td>...</td>\n",
       "      <td>...</td>\n",
       "      <td>...</td>\n",
       "      <td>...</td>\n",
       "      <td>...</td>\n",
       "      <td>...</td>\n",
       "      <td>...</td>\n",
       "      <td>...</td>\n",
       "      <td>...</td>\n",
       "      <td>...</td>\n",
       "      <td>...</td>\n",
       "      <td>...</td>\n",
       "      <td>...</td>\n",
       "      <td>...</td>\n",
       "      <td>...</td>\n",
       "    </tr>\n",
       "    <tr>\n",
       "      <th>415</th>\n",
       "      <td>68957</td>\n",
       "      <td>Las Lomitas Elementary</td>\n",
       "      <td>San Mateo</td>\n",
       "      <td>KK-08</td>\n",
       "      <td>984</td>\n",
       "      <td>59.730000</td>\n",
       "      <td>0.101600</td>\n",
       "      <td>3.556900</td>\n",
       "      <td>195</td>\n",
       "      <td>7290.338867</td>\n",
       "      <td>28.716999</td>\n",
       "      <td>5.995935</td>\n",
       "      <td>700.900024</td>\n",
       "      <td>707.700012</td>\n",
       "      <td>704.300018</td>\n",
       "      <td>16.474134</td>\n",
       "    </tr>\n",
       "    <tr>\n",
       "      <th>416</th>\n",
       "      <td>69518</td>\n",
       "      <td>Los Altos Elementary</td>\n",
       "      <td>Santa Clara</td>\n",
       "      <td>KK-08</td>\n",
       "      <td>3724</td>\n",
       "      <td>208.479996</td>\n",
       "      <td>1.074100</td>\n",
       "      <td>1.503800</td>\n",
       "      <td>721</td>\n",
       "      <td>5741.462891</td>\n",
       "      <td>41.734108</td>\n",
       "      <td>4.726101</td>\n",
       "      <td>704.000000</td>\n",
       "      <td>709.500000</td>\n",
       "      <td>706.750000</td>\n",
       "      <td>17.862625</td>\n",
       "    </tr>\n",
       "    <tr>\n",
       "      <th>417</th>\n",
       "      <td>72611</td>\n",
       "      <td>Somis Union Elementary</td>\n",
       "      <td>Ventura</td>\n",
       "      <td>KK-08</td>\n",
       "      <td>441</td>\n",
       "      <td>20.150000</td>\n",
       "      <td>3.563500</td>\n",
       "      <td>37.193802</td>\n",
       "      <td>45</td>\n",
       "      <td>4402.831543</td>\n",
       "      <td>23.733000</td>\n",
       "      <td>24.263039</td>\n",
       "      <td>648.299988</td>\n",
       "      <td>641.700012</td>\n",
       "      <td>645.000000</td>\n",
       "      <td>21.885856</td>\n",
       "    </tr>\n",
       "    <tr>\n",
       "      <th>418</th>\n",
       "      <td>72744</td>\n",
       "      <td>Plumas Elementary</td>\n",
       "      <td>Yuba</td>\n",
       "      <td>KK-08</td>\n",
       "      <td>101</td>\n",
       "      <td>5.000000</td>\n",
       "      <td>11.881200</td>\n",
       "      <td>59.405899</td>\n",
       "      <td>14</td>\n",
       "      <td>4776.336426</td>\n",
       "      <td>9.952000</td>\n",
       "      <td>2.970297</td>\n",
       "      <td>667.900024</td>\n",
       "      <td>676.500000</td>\n",
       "      <td>672.200012</td>\n",
       "      <td>20.200000</td>\n",
       "    </tr>\n",
       "    <tr>\n",
       "      <th>419</th>\n",
       "      <td>72751</td>\n",
       "      <td>Wheatland Elementary</td>\n",
       "      <td>Yuba</td>\n",
       "      <td>KK-08</td>\n",
       "      <td>1778</td>\n",
       "      <td>93.400002</td>\n",
       "      <td>6.923500</td>\n",
       "      <td>47.571201</td>\n",
       "      <td>313</td>\n",
       "      <td>5993.392578</td>\n",
       "      <td>12.502000</td>\n",
       "      <td>5.005624</td>\n",
       "      <td>660.500000</td>\n",
       "      <td>651.000000</td>\n",
       "      <td>655.750000</td>\n",
       "      <td>19.036402</td>\n",
       "    </tr>\n",
       "  </tbody>\n",
       "</table>\n",
       "<p>420 rows × 16 columns</p>\n",
       "</div>"
      ],
      "text/plain": [
       "     district                           school       county grades  students  \\\n",
       "0       75119               Sunol Glen Unified      Alameda  KK-08       195   \n",
       "1       61499             Manzanita Elementary        Butte  KK-08       240   \n",
       "2       61549      Thermalito Union Elementary        Butte  KK-08      1550   \n",
       "3       61457  Golden Feather Union Elementary        Butte  KK-08       243   \n",
       "4       61523         Palermo Union Elementary        Butte  KK-08      1335   \n",
       "..        ...                              ...          ...    ...       ...   \n",
       "415     68957           Las Lomitas Elementary    San Mateo  KK-08       984   \n",
       "416     69518             Los Altos Elementary  Santa Clara  KK-08      3724   \n",
       "417     72611           Somis Union Elementary      Ventura  KK-08       441   \n",
       "418     72744                Plumas Elementary         Yuba  KK-08       101   \n",
       "419     72751             Wheatland Elementary         Yuba  KK-08      1778   \n",
       "\n",
       "       teachers   calworks      lunch  computer  expenditure     income  \\\n",
       "0     10.900000   0.510200   2.040800        67  6384.911133  22.690001   \n",
       "1     11.150000  15.416700  47.916698       101  5099.380859   9.824000   \n",
       "2     82.900002  55.032299  76.322601       169  5501.954590   8.978000   \n",
       "3     14.000000  36.475399  77.049202        85  7101.831055   8.978000   \n",
       "4     71.500000  33.108601  78.427002       171  5235.987793   9.080333   \n",
       "..          ...        ...        ...       ...          ...        ...   \n",
       "415   59.730000   0.101600   3.556900       195  7290.338867  28.716999   \n",
       "416  208.479996   1.074100   1.503800       721  5741.462891  41.734108   \n",
       "417   20.150000   3.563500  37.193802        45  4402.831543  23.733000   \n",
       "418    5.000000  11.881200  59.405899        14  4776.336426   9.952000   \n",
       "419   93.400002   6.923500  47.571201       313  5993.392578  12.502000   \n",
       "\n",
       "       english        read        math       score    stratio  \n",
       "0     0.000000  691.599976  690.000000  690.799988  17.889909  \n",
       "1     4.583333  660.500000  661.900024  661.200012  21.524664  \n",
       "2    30.000002  636.299988  650.900024  643.600006  18.697225  \n",
       "3     0.000000  651.900024  643.500000  647.700012  17.357143  \n",
       "4    13.857677  641.799988  639.900024  640.850006  18.671329  \n",
       "..         ...         ...         ...         ...        ...  \n",
       "415   5.995935  700.900024  707.700012  704.300018  16.474134  \n",
       "416   4.726101  704.000000  709.500000  706.750000  17.862625  \n",
       "417  24.263039  648.299988  641.700012  645.000000  21.885856  \n",
       "418   2.970297  667.900024  676.500000  672.200012  20.200000  \n",
       "419   5.005624  660.500000  651.000000  655.750000  19.036402  \n",
       "\n",
       "[420 rows x 16 columns]"
      ]
     },
     "execution_count": 21,
     "metadata": {},
     "output_type": "execute_result"
    }
   ],
   "source": [
    "df"
   ]
  },
  {
   "cell_type": "markdown",
   "metadata": {},
   "source": [
    "A look at the California data lends credence to this concern. The correlation between the student-teacher ratio and the percentage of English learners (students who are not native English speakers and who have not yet mastered English) in the district is 0.19. This small but positive correlation suggests that districts with more English learners tend to have a higher student-teacher ratio (larger classes). \n",
    "\n",
    "Because the student-teacher ratio and the percentage of English learners are correlated, it is possible that the OLS coefficient in the regression of test scores on the student-teacher ratio reflects taht influence."
   ]
  },
  {
   "cell_type": "code",
   "execution_count": 22,
   "metadata": {},
   "outputs": [
    {
     "data": {
      "text/html": [
       "<div>\n",
       "<style scoped>\n",
       "    .dataframe tbody tr th:only-of-type {\n",
       "        vertical-align: middle;\n",
       "    }\n",
       "\n",
       "    .dataframe tbody tr th {\n",
       "        vertical-align: top;\n",
       "    }\n",
       "\n",
       "    .dataframe thead th {\n",
       "        text-align: right;\n",
       "    }\n",
       "</style>\n",
       "<table border=\"1\" class=\"dataframe\">\n",
       "  <thead>\n",
       "    <tr style=\"text-align: right;\">\n",
       "      <th></th>\n",
       "      <th>district</th>\n",
       "      <th>students</th>\n",
       "      <th>teachers</th>\n",
       "      <th>calworks</th>\n",
       "      <th>lunch</th>\n",
       "      <th>computer</th>\n",
       "      <th>expenditure</th>\n",
       "      <th>income</th>\n",
       "      <th>english</th>\n",
       "      <th>read</th>\n",
       "      <th>math</th>\n",
       "      <th>score</th>\n",
       "      <th>stratio</th>\n",
       "    </tr>\n",
       "  </thead>\n",
       "  <tbody>\n",
       "    <tr>\n",
       "      <th>district</th>\n",
       "      <td>1.000000</td>\n",
       "      <td>-0.033569</td>\n",
       "      <td>-0.031524</td>\n",
       "      <td>-0.161727</td>\n",
       "      <td>-0.108032</td>\n",
       "      <td>-0.020999</td>\n",
       "      <td>0.049172</td>\n",
       "      <td>0.103910</td>\n",
       "      <td>-0.026967</td>\n",
       "      <td>0.106576</td>\n",
       "      <td>0.117713</td>\n",
       "      <td>0.114170</td>\n",
       "      <td>-0.058951</td>\n",
       "    </tr>\n",
       "    <tr>\n",
       "      <th>students</th>\n",
       "      <td>-0.033569</td>\n",
       "      <td>1.000000</td>\n",
       "      <td>0.997116</td>\n",
       "      <td>0.090161</td>\n",
       "      <td>0.129234</td>\n",
       "      <td>0.928882</td>\n",
       "      <td>-0.112285</td>\n",
       "      <td>0.028392</td>\n",
       "      <td>0.354879</td>\n",
       "      <td>-0.188399</td>\n",
       "      <td>-0.110889</td>\n",
       "      <td>-0.153987</td>\n",
       "      <td>0.298481</td>\n",
       "    </tr>\n",
       "    <tr>\n",
       "      <th>teachers</th>\n",
       "      <td>-0.031524</td>\n",
       "      <td>0.997116</td>\n",
       "      <td>1.000000</td>\n",
       "      <td>0.092645</td>\n",
       "      <td>0.124296</td>\n",
       "      <td>0.937242</td>\n",
       "      <td>-0.095195</td>\n",
       "      <td>0.043007</td>\n",
       "      <td>0.351421</td>\n",
       "      <td>-0.179109</td>\n",
       "      <td>-0.102296</td>\n",
       "      <td>-0.144857</td>\n",
       "      <td>0.264641</td>\n",
       "    </tr>\n",
       "    <tr>\n",
       "      <th>calworks</th>\n",
       "      <td>-0.161727</td>\n",
       "      <td>0.090161</td>\n",
       "      <td>0.092645</td>\n",
       "      <td>1.000000</td>\n",
       "      <td>0.739422</td>\n",
       "      <td>0.059160</td>\n",
       "      <td>0.067889</td>\n",
       "      <td>-0.512651</td>\n",
       "      <td>0.319576</td>\n",
       "      <td>-0.611847</td>\n",
       "      <td>-0.617691</td>\n",
       "      <td>-0.626853</td>\n",
       "      <td>0.018276</td>\n",
       "    </tr>\n",
       "    <tr>\n",
       "      <th>lunch</th>\n",
       "      <td>-0.108032</td>\n",
       "      <td>0.129234</td>\n",
       "      <td>0.124296</td>\n",
       "      <td>0.739422</td>\n",
       "      <td>1.000000</td>\n",
       "      <td>0.061386</td>\n",
       "      <td>-0.061039</td>\n",
       "      <td>-0.684440</td>\n",
       "      <td>0.653061</td>\n",
       "      <td>-0.878808</td>\n",
       "      <td>-0.823015</td>\n",
       "      <td>-0.868772</td>\n",
       "      <td>0.135203</td>\n",
       "    </tr>\n",
       "    <tr>\n",
       "      <th>computer</th>\n",
       "      <td>-0.020999</td>\n",
       "      <td>0.928882</td>\n",
       "      <td>0.937242</td>\n",
       "      <td>0.059160</td>\n",
       "      <td>0.061386</td>\n",
       "      <td>1.000000</td>\n",
       "      <td>-0.071311</td>\n",
       "      <td>0.094343</td>\n",
       "      <td>0.291339</td>\n",
       "      <td>-0.109005</td>\n",
       "      <td>-0.032950</td>\n",
       "      <td>-0.073736</td>\n",
       "      <td>0.233826</td>\n",
       "    </tr>\n",
       "    <tr>\n",
       "      <th>expenditure</th>\n",
       "      <td>0.049172</td>\n",
       "      <td>-0.112285</td>\n",
       "      <td>-0.095195</td>\n",
       "      <td>0.067889</td>\n",
       "      <td>-0.061039</td>\n",
       "      <td>-0.071311</td>\n",
       "      <td>1.000000</td>\n",
       "      <td>0.314484</td>\n",
       "      <td>-0.071396</td>\n",
       "      <td>0.217927</td>\n",
       "      <td>0.154989</td>\n",
       "      <td>0.191273</td>\n",
       "      <td>-0.619982</td>\n",
       "    </tr>\n",
       "    <tr>\n",
       "      <th>income</th>\n",
       "      <td>0.103910</td>\n",
       "      <td>0.028392</td>\n",
       "      <td>0.043007</td>\n",
       "      <td>-0.512651</td>\n",
       "      <td>-0.684440</td>\n",
       "      <td>0.094343</td>\n",
       "      <td>0.314484</td>\n",
       "      <td>1.000000</td>\n",
       "      <td>-0.307419</td>\n",
       "      <td>0.697819</td>\n",
       "      <td>0.699398</td>\n",
       "      <td>0.712431</td>\n",
       "      <td>-0.232194</td>\n",
       "    </tr>\n",
       "    <tr>\n",
       "      <th>english</th>\n",
       "      <td>-0.026967</td>\n",
       "      <td>0.354879</td>\n",
       "      <td>0.351421</td>\n",
       "      <td>0.319576</td>\n",
       "      <td>0.653061</td>\n",
       "      <td>0.291339</td>\n",
       "      <td>-0.071396</td>\n",
       "      <td>-0.307419</td>\n",
       "      <td>1.000000</td>\n",
       "      <td>-0.690286</td>\n",
       "      <td>-0.568682</td>\n",
       "      <td>-0.644124</td>\n",
       "      <td>0.187642</td>\n",
       "    </tr>\n",
       "    <tr>\n",
       "      <th>read</th>\n",
       "      <td>0.106576</td>\n",
       "      <td>-0.188399</td>\n",
       "      <td>-0.179109</td>\n",
       "      <td>-0.611847</td>\n",
       "      <td>-0.878808</td>\n",
       "      <td>-0.109005</td>\n",
       "      <td>0.217927</td>\n",
       "      <td>0.697819</td>\n",
       "      <td>-0.690286</td>\n",
       "      <td>1.000000</td>\n",
       "      <td>0.922901</td>\n",
       "      <td>0.981882</td>\n",
       "      <td>-0.246593</td>\n",
       "    </tr>\n",
       "    <tr>\n",
       "      <th>math</th>\n",
       "      <td>0.117713</td>\n",
       "      <td>-0.110889</td>\n",
       "      <td>-0.102296</td>\n",
       "      <td>-0.617691</td>\n",
       "      <td>-0.823015</td>\n",
       "      <td>-0.032950</td>\n",
       "      <td>0.154989</td>\n",
       "      <td>0.699398</td>\n",
       "      <td>-0.568682</td>\n",
       "      <td>0.922901</td>\n",
       "      <td>1.000000</td>\n",
       "      <td>0.979143</td>\n",
       "      <td>-0.195553</td>\n",
       "    </tr>\n",
       "    <tr>\n",
       "      <th>score</th>\n",
       "      <td>0.114170</td>\n",
       "      <td>-0.153987</td>\n",
       "      <td>-0.144857</td>\n",
       "      <td>-0.626853</td>\n",
       "      <td>-0.868772</td>\n",
       "      <td>-0.073736</td>\n",
       "      <td>0.191273</td>\n",
       "      <td>0.712431</td>\n",
       "      <td>-0.644124</td>\n",
       "      <td>0.981882</td>\n",
       "      <td>0.979143</td>\n",
       "      <td>1.000000</td>\n",
       "      <td>-0.226363</td>\n",
       "    </tr>\n",
       "    <tr>\n",
       "      <th>stratio</th>\n",
       "      <td>-0.058951</td>\n",
       "      <td>0.298481</td>\n",
       "      <td>0.264641</td>\n",
       "      <td>0.018276</td>\n",
       "      <td>0.135203</td>\n",
       "      <td>0.233826</td>\n",
       "      <td>-0.619982</td>\n",
       "      <td>-0.232194</td>\n",
       "      <td>0.187642</td>\n",
       "      <td>-0.246593</td>\n",
       "      <td>-0.195553</td>\n",
       "      <td>-0.226363</td>\n",
       "      <td>1.000000</td>\n",
       "    </tr>\n",
       "  </tbody>\n",
       "</table>\n",
       "</div>"
      ],
      "text/plain": [
       "             district  students  teachers  calworks     lunch  computer  \\\n",
       "district     1.000000 -0.033569 -0.031524 -0.161727 -0.108032 -0.020999   \n",
       "students    -0.033569  1.000000  0.997116  0.090161  0.129234  0.928882   \n",
       "teachers    -0.031524  0.997116  1.000000  0.092645  0.124296  0.937242   \n",
       "calworks    -0.161727  0.090161  0.092645  1.000000  0.739422  0.059160   \n",
       "lunch       -0.108032  0.129234  0.124296  0.739422  1.000000  0.061386   \n",
       "computer    -0.020999  0.928882  0.937242  0.059160  0.061386  1.000000   \n",
       "expenditure  0.049172 -0.112285 -0.095195  0.067889 -0.061039 -0.071311   \n",
       "income       0.103910  0.028392  0.043007 -0.512651 -0.684440  0.094343   \n",
       "english     -0.026967  0.354879  0.351421  0.319576  0.653061  0.291339   \n",
       "read         0.106576 -0.188399 -0.179109 -0.611847 -0.878808 -0.109005   \n",
       "math         0.117713 -0.110889 -0.102296 -0.617691 -0.823015 -0.032950   \n",
       "score        0.114170 -0.153987 -0.144857 -0.626853 -0.868772 -0.073736   \n",
       "stratio     -0.058951  0.298481  0.264641  0.018276  0.135203  0.233826   \n",
       "\n",
       "             expenditure    income   english      read      math     score  \\\n",
       "district        0.049172  0.103910 -0.026967  0.106576  0.117713  0.114170   \n",
       "students       -0.112285  0.028392  0.354879 -0.188399 -0.110889 -0.153987   \n",
       "teachers       -0.095195  0.043007  0.351421 -0.179109 -0.102296 -0.144857   \n",
       "calworks        0.067889 -0.512651  0.319576 -0.611847 -0.617691 -0.626853   \n",
       "lunch          -0.061039 -0.684440  0.653061 -0.878808 -0.823015 -0.868772   \n",
       "computer       -0.071311  0.094343  0.291339 -0.109005 -0.032950 -0.073736   \n",
       "expenditure     1.000000  0.314484 -0.071396  0.217927  0.154989  0.191273   \n",
       "income          0.314484  1.000000 -0.307419  0.697819  0.699398  0.712431   \n",
       "english        -0.071396 -0.307419  1.000000 -0.690286 -0.568682 -0.644124   \n",
       "read            0.217927  0.697819 -0.690286  1.000000  0.922901  0.981882   \n",
       "math            0.154989  0.699398 -0.568682  0.922901  1.000000  0.979143   \n",
       "score           0.191273  0.712431 -0.644124  0.981882  0.979143  1.000000   \n",
       "stratio        -0.619982 -0.232194  0.187642 -0.246593 -0.195553 -0.226363   \n",
       "\n",
       "              stratio  \n",
       "district    -0.058951  \n",
       "students     0.298481  \n",
       "teachers     0.264641  \n",
       "calworks     0.018276  \n",
       "lunch        0.135203  \n",
       "computer     0.233826  \n",
       "expenditure -0.619982  \n",
       "income      -0.232194  \n",
       "english      0.187642  \n",
       "read        -0.246593  \n",
       "math        -0.195553  \n",
       "score       -0.226363  \n",
       "stratio      1.000000  "
      ]
     },
     "execution_count": 22,
     "metadata": {},
     "output_type": "execute_result"
    }
   ],
   "source": [
    "df.corr()"
   ]
  },
  {
   "cell_type": "markdown",
   "metadata": {},
   "source": [
    "### I just want to check something really quickly "
   ]
  },
  {
   "cell_type": "code",
   "execution_count": 23,
   "metadata": {},
   "outputs": [],
   "source": [
    "pract_df = df.copy()"
   ]
  },
  {
   "cell_type": "code",
   "execution_count": 24,
   "metadata": {},
   "outputs": [],
   "source": [
    "testscore = np.array(pract_df['score']).reshape(-1,1)\n",
    "english = np.array(pract_df['english']).reshape(-1,1)\n",
    "stratio = np.array(pract_df['stratio']).reshape(-1,1)"
   ]
  },
  {
   "cell_type": "code",
   "execution_count": 25,
   "metadata": {},
   "outputs": [],
   "source": [
    "biased_reg = LinearRegression().fit(stratio, testscore)"
   ]
  },
  {
   "cell_type": "code",
   "execution_count": 26,
   "metadata": {},
   "outputs": [],
   "source": [
    "b0 = biased_reg.intercept_\n",
    "b1 = biased_reg.coef_"
   ]
  },
  {
   "cell_type": "code",
   "execution_count": 27,
   "metadata": {},
   "outputs": [
    {
     "name": "stdout",
     "output_type": "stream",
     "text": [
      "[698.93294928]\n",
      "[[-2.27980814]]\n"
     ]
    }
   ],
   "source": [
    "print(b0)\n",
    "print(b1)"
   ]
  },
  {
   "cell_type": "markdown",
   "metadata": {},
   "source": [
    "$\\widehat{testscore} = 698.93 - 2.28 * stratio + U$"
   ]
  },
  {
   "cell_type": "code",
   "execution_count": 28,
   "metadata": {},
   "outputs": [],
   "source": [
    "pract_df['U'] = testscore - b0 - b1*stratio"
   ]
  },
  {
   "cell_type": "code",
   "execution_count": 29,
   "metadata": {},
   "outputs": [
    {
     "data": {
      "text/plain": [
       "-2.382009933214812e-14"
      ]
     },
     "execution_count": 29,
     "metadata": {},
     "output_type": "execute_result"
    }
   ],
   "source": [
    "pract_df['U'].mean()"
   ]
  },
  {
   "cell_type": "code",
   "execution_count": 30,
   "metadata": {},
   "outputs": [],
   "source": [
    "U = np.array(pract_df['U']).reshape(-1,1)"
   ]
  },
  {
   "cell_type": "code",
   "execution_count": 31,
   "metadata": {},
   "outputs": [],
   "source": [
    "reg_eng_U = LinearRegression().fit(english, U)"
   ]
  },
  {
   "cell_type": "code",
   "execution_count": 32,
   "metadata": {},
   "outputs": [],
   "source": [
    "c0 = reg_eng_U.intercept_\n",
    "c1 = reg_eng_U.coef_"
   ]
  },
  {
   "cell_type": "code",
   "execution_count": 33,
   "metadata": {},
   "outputs": [
    {
     "name": "stdout",
     "output_type": "stream",
     "text": [
      "[9.88503142]\n",
      "[[-0.62689841]]\n"
     ]
    }
   ],
   "source": [
    "print(c0)\n",
    "print(c1)"
   ]
  },
  {
   "cell_type": "code",
   "execution_count": 34,
   "metadata": {},
   "outputs": [],
   "source": [
    "pract_df['e'] = U - c0 - c1*english"
   ]
  },
  {
   "cell_type": "markdown",
   "metadata": {},
   "source": [
    "The error term within the error term got smaller. Good"
   ]
  },
  {
   "cell_type": "code",
   "execution_count": 35,
   "metadata": {},
   "outputs": [
    {
     "data": {
      "text/plain": [
       "-2.7068294695622863e-15"
      ]
     },
     "execution_count": 35,
     "metadata": {},
     "output_type": "execute_result"
    }
   ],
   "source": [
    "pract_df['e'].mean()"
   ]
  },
  {
   "cell_type": "code",
   "execution_count": 36,
   "metadata": {},
   "outputs": [],
   "source": [
    "reg_str_eng = LinearRegression().fit(stratio, english)"
   ]
  },
  {
   "cell_type": "code",
   "execution_count": 37,
   "metadata": {},
   "outputs": [],
   "source": [
    "d0 = reg_str_eng.intercept_\n",
    "d1 = reg_str_eng.coef_"
   ]
  },
  {
   "cell_type": "code",
   "execution_count": 38,
   "metadata": {},
   "outputs": [
    {
     "name": "stdout",
     "output_type": "stream",
     "text": [
      "[-19.85405468]\n",
      "[[1.81371886]]\n"
     ]
    }
   ],
   "source": [
    "print(d0)\n",
    "print(d1)"
   ]
  },
  {
   "cell_type": "markdown",
   "metadata": {},
   "source": [
    "#### Unbiased regression"
   ]
  },
  {
   "cell_type": "code",
   "execution_count": 39,
   "metadata": {},
   "outputs": [],
   "source": [
    "X = df[['stratio', 'english']]"
   ]
  },
  {
   "cell_type": "code",
   "execution_count": 40,
   "metadata": {},
   "outputs": [],
   "source": [
    "unbiased_reg = LinearRegression().fit(X, testscore)"
   ]
  },
  {
   "cell_type": "code",
   "execution_count": 41,
   "metadata": {},
   "outputs": [],
   "source": [
    "beta_0 = unbiased_reg.intercept_\n",
    "beta_1 = unbiased_reg.coef_"
   ]
  },
  {
   "cell_type": "code",
   "execution_count": 42,
   "metadata": {},
   "outputs": [
    {
     "name": "stdout",
     "output_type": "stream",
     "text": [
      "[686.03224454]\n",
      "[[-1.10129565 -0.64977683]]\n"
     ]
    }
   ],
   "source": [
    "print(beta_0)\n",
    "print(beta_1)"
   ]
  },
  {
   "cell_type": "code",
   "execution_count": 43,
   "metadata": {},
   "outputs": [
    {
     "data": {
      "text/plain": [
       "array([[-2.27980814]])"
      ]
     },
     "execution_count": 43,
     "metadata": {},
     "output_type": "execute_result"
    }
   ],
   "source": [
    "beta_1[0][0] + (beta_1[0][1] * d1)"
   ]
  },
  {
   "cell_type": "markdown",
   "metadata": {},
   "source": [
    "## Addressing Omitted Variable Bias by Dividing the Data into Groups\n",
    "\n",
    "What can you do about omitted variable bias? Our superintendent is considering increasing the number of teachers in her district, but she has no control over the fraction of immigrants in her community. As a result, she is interested in the effect of the student-teacher ratio on test scores, holding constant other factors, including the percentage of English learners. This new way of posing her question suggests that, instead of using data for all districts, perhaps we should focus on districts with percentages of English learners comparable to hers. Among this subset of districts, do those with smaller classes do better on standardized tests? \n",
    "\n",
    "WELL -- the conclusion is that this way of doing it doesn't solve the problem."
   ]
  },
  {
   "cell_type": "markdown",
   "metadata": {},
   "source": [
    "# 6.2 The Multiple Regression Model \n",
    "\n",
    "The multiple regrssion model extends the single variable regression model of Chapters 4 and 5 to inlcude additional variables as regressors. This model permits estimating the effect on $Y_i$ of changing one variable ($X_{1i}$) while holding the other regressors ($X_{2i}, X_{3i}$ and so forth) constant. "
   ]
  },
  {
   "cell_type": "markdown",
   "metadata": {},
   "source": [
    "The interpretation of the coefficient $\\beta_1$ in Equation (6.2) is different than it was when $X_{1i}$ was the only regressor: In Equation (6.2), $\\beta_1$ is the effect on Y of a unit change in $X_1$, holding $X_2$ constant or controlling for $X_2$.\n",
    "\n",
    "Another phrase used to describe $\\beta_1$ is the partial effect on Y of $X_1$, holding $X_2$ fixed."
   ]
  },
  {
   "cell_type": "markdown",
   "metadata": {},
   "source": [
    "### Application to Test Scores and the Student-Teacher Ratio"
   ]
  },
  {
   "cell_type": "code",
   "execution_count": 44,
   "metadata": {},
   "outputs": [
    {
     "data": {
      "text/html": [
       "<div>\n",
       "<style scoped>\n",
       "    .dataframe tbody tr th:only-of-type {\n",
       "        vertical-align: middle;\n",
       "    }\n",
       "\n",
       "    .dataframe tbody tr th {\n",
       "        vertical-align: top;\n",
       "    }\n",
       "\n",
       "    .dataframe thead th {\n",
       "        text-align: right;\n",
       "    }\n",
       "</style>\n",
       "<table border=\"1\" class=\"dataframe\">\n",
       "  <thead>\n",
       "    <tr style=\"text-align: right;\">\n",
       "      <th></th>\n",
       "      <th>district</th>\n",
       "      <th>school</th>\n",
       "      <th>county</th>\n",
       "      <th>grades</th>\n",
       "      <th>students</th>\n",
       "      <th>teachers</th>\n",
       "      <th>calworks</th>\n",
       "      <th>lunch</th>\n",
       "      <th>computer</th>\n",
       "      <th>expenditure</th>\n",
       "      <th>income</th>\n",
       "      <th>english</th>\n",
       "      <th>read</th>\n",
       "      <th>math</th>\n",
       "      <th>score</th>\n",
       "      <th>stratio</th>\n",
       "    </tr>\n",
       "  </thead>\n",
       "  <tbody>\n",
       "    <tr>\n",
       "      <th>0</th>\n",
       "      <td>75119</td>\n",
       "      <td>Sunol Glen Unified</td>\n",
       "      <td>Alameda</td>\n",
       "      <td>KK-08</td>\n",
       "      <td>195</td>\n",
       "      <td>10.900000</td>\n",
       "      <td>0.510200</td>\n",
       "      <td>2.040800</td>\n",
       "      <td>67</td>\n",
       "      <td>6384.911133</td>\n",
       "      <td>22.690001</td>\n",
       "      <td>0.000000</td>\n",
       "      <td>691.599976</td>\n",
       "      <td>690.000000</td>\n",
       "      <td>690.799988</td>\n",
       "      <td>17.889909</td>\n",
       "    </tr>\n",
       "    <tr>\n",
       "      <th>1</th>\n",
       "      <td>61499</td>\n",
       "      <td>Manzanita Elementary</td>\n",
       "      <td>Butte</td>\n",
       "      <td>KK-08</td>\n",
       "      <td>240</td>\n",
       "      <td>11.150000</td>\n",
       "      <td>15.416700</td>\n",
       "      <td>47.916698</td>\n",
       "      <td>101</td>\n",
       "      <td>5099.380859</td>\n",
       "      <td>9.824000</td>\n",
       "      <td>4.583333</td>\n",
       "      <td>660.500000</td>\n",
       "      <td>661.900024</td>\n",
       "      <td>661.200012</td>\n",
       "      <td>21.524664</td>\n",
       "    </tr>\n",
       "    <tr>\n",
       "      <th>2</th>\n",
       "      <td>61549</td>\n",
       "      <td>Thermalito Union Elementary</td>\n",
       "      <td>Butte</td>\n",
       "      <td>KK-08</td>\n",
       "      <td>1550</td>\n",
       "      <td>82.900002</td>\n",
       "      <td>55.032299</td>\n",
       "      <td>76.322601</td>\n",
       "      <td>169</td>\n",
       "      <td>5501.954590</td>\n",
       "      <td>8.978000</td>\n",
       "      <td>30.000002</td>\n",
       "      <td>636.299988</td>\n",
       "      <td>650.900024</td>\n",
       "      <td>643.600006</td>\n",
       "      <td>18.697225</td>\n",
       "    </tr>\n",
       "    <tr>\n",
       "      <th>3</th>\n",
       "      <td>61457</td>\n",
       "      <td>Golden Feather Union Elementary</td>\n",
       "      <td>Butte</td>\n",
       "      <td>KK-08</td>\n",
       "      <td>243</td>\n",
       "      <td>14.000000</td>\n",
       "      <td>36.475399</td>\n",
       "      <td>77.049202</td>\n",
       "      <td>85</td>\n",
       "      <td>7101.831055</td>\n",
       "      <td>8.978000</td>\n",
       "      <td>0.000000</td>\n",
       "      <td>651.900024</td>\n",
       "      <td>643.500000</td>\n",
       "      <td>647.700012</td>\n",
       "      <td>17.357143</td>\n",
       "    </tr>\n",
       "    <tr>\n",
       "      <th>4</th>\n",
       "      <td>61523</td>\n",
       "      <td>Palermo Union Elementary</td>\n",
       "      <td>Butte</td>\n",
       "      <td>KK-08</td>\n",
       "      <td>1335</td>\n",
       "      <td>71.500000</td>\n",
       "      <td>33.108601</td>\n",
       "      <td>78.427002</td>\n",
       "      <td>171</td>\n",
       "      <td>5235.987793</td>\n",
       "      <td>9.080333</td>\n",
       "      <td>13.857677</td>\n",
       "      <td>641.799988</td>\n",
       "      <td>639.900024</td>\n",
       "      <td>640.850006</td>\n",
       "      <td>18.671329</td>\n",
       "    </tr>\n",
       "  </tbody>\n",
       "</table>\n",
       "</div>"
      ],
      "text/plain": [
       "   district                           school   county grades  students  \\\n",
       "0     75119               Sunol Glen Unified  Alameda  KK-08       195   \n",
       "1     61499             Manzanita Elementary    Butte  KK-08       240   \n",
       "2     61549      Thermalito Union Elementary    Butte  KK-08      1550   \n",
       "3     61457  Golden Feather Union Elementary    Butte  KK-08       243   \n",
       "4     61523         Palermo Union Elementary    Butte  KK-08      1335   \n",
       "\n",
       "    teachers   calworks      lunch  computer  expenditure     income  \\\n",
       "0  10.900000   0.510200   2.040800        67  6384.911133  22.690001   \n",
       "1  11.150000  15.416700  47.916698       101  5099.380859   9.824000   \n",
       "2  82.900002  55.032299  76.322601       169  5501.954590   8.978000   \n",
       "3  14.000000  36.475399  77.049202        85  7101.831055   8.978000   \n",
       "4  71.500000  33.108601  78.427002       171  5235.987793   9.080333   \n",
       "\n",
       "     english        read        math       score    stratio  \n",
       "0   0.000000  691.599976  690.000000  690.799988  17.889909  \n",
       "1   4.583333  660.500000  661.900024  661.200012  21.524664  \n",
       "2  30.000002  636.299988  650.900024  643.600006  18.697225  \n",
       "3   0.000000  651.900024  643.500000  647.700012  17.357143  \n",
       "4  13.857677  641.799988  639.900024  640.850006  18.671329  "
      ]
     },
     "execution_count": 44,
     "metadata": {},
     "output_type": "execute_result"
    }
   ],
   "source": [
    "df.head()"
   ]
  },
  {
   "cell_type": "code",
   "execution_count": 45,
   "metadata": {},
   "outputs": [],
   "source": [
    "X = df[[\"stratio\", 'english']]\n",
    "y = df[\"score\"]"
   ]
  },
  {
   "cell_type": "code",
   "execution_count": 46,
   "metadata": {},
   "outputs": [],
   "source": [
    "mult_reg = LinearRegression().fit(X, y)"
   ]
  },
  {
   "cell_type": "code",
   "execution_count": 47,
   "metadata": {},
   "outputs": [
    {
     "data": {
      "text/plain": [
       "686.0322445391488"
      ]
     },
     "execution_count": 47,
     "metadata": {},
     "output_type": "execute_result"
    }
   ],
   "source": [
    "mult_reg.intercept_"
   ]
  },
  {
   "cell_type": "code",
   "execution_count": 48,
   "metadata": {},
   "outputs": [
    {
     "data": {
      "text/plain": [
       "array([-1.10129565, -0.64977683])"
      ]
     },
     "execution_count": 48,
     "metadata": {},
     "output_type": "execute_result"
    }
   ],
   "source": [
    "mult_reg.coef_"
   ]
  },
  {
   "cell_type": "markdown",
   "metadata": {},
   "source": [
    "$\\widehat{TestScore} = 686 - 1.10 (STR) - 0.65(English)$"
   ]
  },
  {
   "cell_type": "markdown",
   "metadata": {},
   "source": [
    "# Chapter 7: Hypothesis Tests and Confidence Intervals in Multiple Regression\n",
    "\n",
    "## 7.5 Model Specification for Multiple Regression\n",
    "\n",
    "The job of determining which variables to include in multiple regression - that is, the problem of choosing specification - can be quite challenging, and no single rule applies in all situations. But do not despair, because some useful guidlines are available. \n",
    "\n",
    "The starting point for choosing a regression specification is thinking through the possible sources of omitted variable bias. It is important to rely on your expert knowledge of the empirical problem and to focus on obtaining an unbiased estimate of the causal effect of interest; do not rely solely on purely statistical measures of fit such as the $R^2$ or $\\bar{R^2}$. "
   ]
  },
  {
   "cell_type": "markdown",
   "metadata": {},
   "source": [
    "#### Omitted Variable Bias in Multiple Regression\n",
    "\n",
    "....\n",
    "\n",
    "#### The Role of Control Variables in Multiple Regression\n",
    "\n",
    "A **control variable** is not the object of interest in the study; rather it is a regressor included to hold constant factors that, if neglected, could lead the estimated causal effect of interest to suffer from omitted variable bias. \n",
    "\n",
    "In this subsection, we introduce an alternative to the first least squares assumption in which the distinction between a variable of interest and a control variable is explicit. If this alternative assumption holds, the OLS estimator of the effect of interest is unbiased, but the OLS coefficients on control variables are in general biased and do not have a causal interpretation."
   ]
  },
  {
   "cell_type": "markdown",
   "metadata": {},
   "source": [
    "#### Model Specification in Theory and in Practice\n",
    "\n",
    "Our approach to the challenge of potential omitted variable bias is twofold. First, a core or base set of regressors should be chosen using a combination of expert judgement, economic theory, and knowledge of how the data were collected; the regression using this base set of regressors is sometimes referred to as a **base specification**. This base specification should contain the variable of primary interest and the control variables suggested by expert judgement and economic theory. \n",
    "\n",
    "Expert judgment and economic theory are rarely decisive, however, and often the variables suggested by economic theory are rarely decisive, however, and often the variables suggested by economic theory are not the ones on which you have data. Tehrefore the next step is to develop a list of candidate **alternative specifications,** that is, alternative set of regressors. If the estimates of the coefficients of interest are numerically similar across the alternative specifications, then this provides evidence that the estimates from your base specification are reliable. If, on the other hand, the estimates of the coefficients of interest change substantially across specifications, this often provides evidence that the original specification had omitted variable bias. We elaborate on this approach to model specification in Section 9.2 after studying some tools for specifying regressions. "
   ]
  }
 ],
 "metadata": {
  "hide_input": false,
  "kernelspec": {
   "display_name": "Python 3",
   "language": "python",
   "name": "python3"
  },
  "language_info": {
   "codemirror_mode": {
    "name": "ipython",
    "version": 3
   },
   "file_extension": ".py",
   "mimetype": "text/x-python",
   "name": "python",
   "nbconvert_exporter": "python",
   "pygments_lexer": "ipython3",
   "version": "3.8.5"
  }
 },
 "nbformat": 4,
 "nbformat_minor": 4
}
